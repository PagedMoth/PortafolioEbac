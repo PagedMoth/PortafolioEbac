{
 "cells": [
  {
   "cell_type": "code",
   "execution_count": 1,
   "id": "6146b677-1705-4d5a-a219-310afc3a9c6f",
   "metadata": {},
   "outputs": [],
   "source": [
    "import pandas as pd\n",
    "import numpy as np\n",
    "from sklearn.linear_model import LogisticRegression\n",
    "from sklearn.model_selection import train_test_split, GridSearchCV\n",
    "from sklearn.metrics import classification_report, confusion_matrix\n",
    "from sklearn import preprocessing\n",
    "import matplotlib.pyplot as plt\n",
    "import os\n",
    "\n",
    "import warnings\n",
    "warnings.filterwarnings(\"ignore\")"
   ]
  },
  {
   "cell_type": "code",
   "execution_count": 90,
   "id": "9f5e0b43-6980-411f-b552-9b2ea33bd7be",
   "metadata": {},
   "outputs": [
    {
     "data": {
      "text/html": [
       "<div>\n",
       "<style scoped>\n",
       "    .dataframe tbody tr th:only-of-type {\n",
       "        vertical-align: middle;\n",
       "    }\n",
       "\n",
       "    .dataframe tbody tr th {\n",
       "        vertical-align: top;\n",
       "    }\n",
       "\n",
       "    .dataframe thead th {\n",
       "        text-align: right;\n",
       "    }\n",
       "</style>\n",
       "<table border=\"1\" class=\"dataframe\">\n",
       "  <thead>\n",
       "    <tr style=\"text-align: right;\">\n",
       "      <th></th>\n",
       "      <th>Age</th>\n",
       "      <th>Sex</th>\n",
       "      <th>BP</th>\n",
       "      <th>Cholesterol</th>\n",
       "      <th>Na_to_K</th>\n",
       "      <th>Drug</th>\n",
       "    </tr>\n",
       "  </thead>\n",
       "  <tbody>\n",
       "    <tr>\n",
       "      <th>0</th>\n",
       "      <td>23</td>\n",
       "      <td>F</td>\n",
       "      <td>HIGH</td>\n",
       "      <td>HIGH</td>\n",
       "      <td>25.355</td>\n",
       "      <td>drugY</td>\n",
       "    </tr>\n",
       "    <tr>\n",
       "      <th>1</th>\n",
       "      <td>47</td>\n",
       "      <td>M</td>\n",
       "      <td>LOW</td>\n",
       "      <td>HIGH</td>\n",
       "      <td>13.093</td>\n",
       "      <td>drugC</td>\n",
       "    </tr>\n",
       "    <tr>\n",
       "      <th>2</th>\n",
       "      <td>47</td>\n",
       "      <td>M</td>\n",
       "      <td>LOW</td>\n",
       "      <td>HIGH</td>\n",
       "      <td>10.114</td>\n",
       "      <td>drugC</td>\n",
       "    </tr>\n",
       "    <tr>\n",
       "      <th>3</th>\n",
       "      <td>28</td>\n",
       "      <td>F</td>\n",
       "      <td>NORMAL</td>\n",
       "      <td>HIGH</td>\n",
       "      <td>7.798</td>\n",
       "      <td>drugX</td>\n",
       "    </tr>\n",
       "    <tr>\n",
       "      <th>4</th>\n",
       "      <td>61</td>\n",
       "      <td>F</td>\n",
       "      <td>LOW</td>\n",
       "      <td>HIGH</td>\n",
       "      <td>18.043</td>\n",
       "      <td>drugY</td>\n",
       "    </tr>\n",
       "  </tbody>\n",
       "</table>\n",
       "</div>"
      ],
      "text/plain": [
       "   Age Sex      BP Cholesterol  Na_to_K   Drug\n",
       "0   23   F    HIGH        HIGH   25.355  drugY\n",
       "1   47   M     LOW        HIGH   13.093  drugC\n",
       "2   47   M     LOW        HIGH   10.114  drugC\n",
       "3   28   F  NORMAL        HIGH    7.798  drugX\n",
       "4   61   F     LOW        HIGH   18.043  drugY"
      ]
     },
     "execution_count": 90,
     "metadata": {},
     "output_type": "execute_result"
    }
   ],
   "source": [
    "df_drugs = pd.read_csv(\"drugs.csv\")\n",
    "df_drugs.head()"
   ]
  },
  {
   "cell_type": "code",
   "execution_count": 91,
   "id": "5be29ed9-c311-4ac0-a1d6-d55191c77a3b",
   "metadata": {},
   "outputs": [
    {
     "data": {
      "text/plain": [
       "Age            0\n",
       "Sex            0\n",
       "BP             0\n",
       "Cholesterol    0\n",
       "Na_to_K        0\n",
       "Drug           0\n",
       "dtype: int64"
      ]
     },
     "execution_count": 91,
     "metadata": {},
     "output_type": "execute_result"
    }
   ],
   "source": [
    "df_drugs.isnull().sum()"
   ]
  },
  {
   "cell_type": "code",
   "execution_count": 92,
   "id": "246a8c48-a754-40c9-9dc6-cbfe09d5c4ac",
   "metadata": {},
   "outputs": [],
   "source": [
    "# Objeto LabelEncoder y diccionario con las caracteristicas para la documentacion.\n",
    "le = preprocessing.LabelEncoder()\n",
    "Scaler = preprocessing.StandardScaler()\n",
    "\n",
    "mapeoCaracteristicas= {}\n",
    "mapeoCaracteristicaDrug={}"
   ]
  },
  {
   "cell_type": "code",
   "execution_count": 93,
   "id": "668a0803-0860-4ee0-821a-d6a99339debc",
   "metadata": {},
   "outputs": [
    {
     "data": {
      "text/plain": [
       "{'BP': {'HIGH': 0, 'LOW': 1, 'NORMAL': 2},\n",
       " 'Sex': {'F': 0, 'M': 1},\n",
       " 'Cholesterol': {'HIGH': 0, 'NORMAL': 1}}"
      ]
     },
     "execution_count": 93,
     "metadata": {},
     "output_type": "execute_result"
    }
   ],
   "source": [
    "# Etiquetar las columnas y guardar los mapeos\n",
    "for columna in ['BP', 'Sex', 'Cholesterol']:\n",
    "    #Se utiliza label encoder para cambiar strings por valores numericos\n",
    "    df_drugs[columna] = le.fit_transform(df_drugs[columna])\n",
    "    mapeoCaracteristicas[columna] = dict(zip(le.classes_, le.transform(le.classes_)))\n",
    "\n",
    "mapeoCaracteristicas"
   ]
  },
  {
   "cell_type": "code",
   "execution_count": 94,
   "id": "95f3189f-4789-48ac-b036-176dd2a50ee9",
   "metadata": {},
   "outputs": [],
   "source": [
    "#Creacion de variables para el entrenamiento y test.\n",
    "x_ind=df_drugs.drop(\"Drug\", axis=1)\n",
    "y_dep=pd.DataFrame(df_drugs[\"Drug\"])"
   ]
  },
  {
   "cell_type": "code",
   "execution_count": 95,
   "id": "e93501a2-a5cd-4f1d-9509-4ae6581ed498",
   "metadata": {},
   "outputs": [
    {
     "data": {
      "text/plain": [
       "array(['drugY', 'drugC', 'drugC', 'drugX', 'drugY'], dtype=object)"
      ]
     },
     "execution_count": 95,
     "metadata": {},
     "output_type": "execute_result"
    }
   ],
   "source": [
    "y_dep_array = y_dep.values.ravel()\n",
    "y_dep_array[:5]"
   ]
  },
  {
   "cell_type": "code",
   "execution_count": 96,
   "id": "b1d0996e-2a4a-453c-9c34-6ece66fdbff9",
   "metadata": {},
   "outputs": [
    {
     "data": {
      "text/plain": [
       "{'drugA': 0, 'drugB': 1, 'drugC': 2, 'drugX': 3, 'drugY': 4}"
      ]
     },
     "execution_count": 96,
     "metadata": {},
     "output_type": "execute_result"
    }
   ],
   "source": [
    "#Transformamos etiquetas en valor numerico del medicamento\n",
    "y_dep_cod= pd.DataFrame(le.fit_transform(y_dep_array), columns=[\"Drug\"])\n",
    "\n",
    "#Guarda caracteristica en formato diccionario juntato clave-valor con zip\n",
    "mapeoCaracteristicaDrug = dict(zip(le.classes_, le.transform(le.classes_)))\n",
    "mapeoCaracteristicaDrug"
   ]
  },
  {
   "cell_type": "code",
   "execution_count": 97,
   "id": "fb0f33cc-5a7b-4764-809b-86949751953d",
   "metadata": {},
   "outputs": [
    {
     "data": {
      "text/html": [
       "<div>\n",
       "<style scoped>\n",
       "    .dataframe tbody tr th:only-of-type {\n",
       "        vertical-align: middle;\n",
       "    }\n",
       "\n",
       "    .dataframe tbody tr th {\n",
       "        vertical-align: top;\n",
       "    }\n",
       "\n",
       "    .dataframe thead th {\n",
       "        text-align: right;\n",
       "    }\n",
       "</style>\n",
       "<table border=\"1\" class=\"dataframe\">\n",
       "  <thead>\n",
       "    <tr style=\"text-align: right;\">\n",
       "      <th></th>\n",
       "      <th>Age</th>\n",
       "      <th>Sex</th>\n",
       "      <th>BP</th>\n",
       "      <th>Cholesterol</th>\n",
       "      <th>Na_to_K</th>\n",
       "    </tr>\n",
       "  </thead>\n",
       "  <tbody>\n",
       "    <tr>\n",
       "      <th>0</th>\n",
       "      <td>23</td>\n",
       "      <td>0</td>\n",
       "      <td>0</td>\n",
       "      <td>0</td>\n",
       "      <td>25.355</td>\n",
       "    </tr>\n",
       "    <tr>\n",
       "      <th>1</th>\n",
       "      <td>47</td>\n",
       "      <td>1</td>\n",
       "      <td>1</td>\n",
       "      <td>0</td>\n",
       "      <td>13.093</td>\n",
       "    </tr>\n",
       "    <tr>\n",
       "      <th>2</th>\n",
       "      <td>47</td>\n",
       "      <td>1</td>\n",
       "      <td>1</td>\n",
       "      <td>0</td>\n",
       "      <td>10.114</td>\n",
       "    </tr>\n",
       "    <tr>\n",
       "      <th>3</th>\n",
       "      <td>28</td>\n",
       "      <td>0</td>\n",
       "      <td>2</td>\n",
       "      <td>0</td>\n",
       "      <td>7.798</td>\n",
       "    </tr>\n",
       "    <tr>\n",
       "      <th>4</th>\n",
       "      <td>61</td>\n",
       "      <td>0</td>\n",
       "      <td>1</td>\n",
       "      <td>0</td>\n",
       "      <td>18.043</td>\n",
       "    </tr>\n",
       "  </tbody>\n",
       "</table>\n",
       "</div>"
      ],
      "text/plain": [
       "   Age  Sex  BP  Cholesterol  Na_to_K\n",
       "0   23    0   0            0   25.355\n",
       "1   47    1   1            0   13.093\n",
       "2   47    1   1            0   10.114\n",
       "3   28    0   2            0    7.798\n",
       "4   61    0   1            0   18.043"
      ]
     },
     "execution_count": 97,
     "metadata": {},
     "output_type": "execute_result"
    }
   ],
   "source": [
    "x_ind.head()"
   ]
  },
  {
   "cell_type": "code",
   "execution_count": 98,
   "id": "0b5c80de-cf36-499a-9a82-71aec52302f3",
   "metadata": {},
   "outputs": [
    {
     "data": {
      "text/html": [
       "<div>\n",
       "<style scoped>\n",
       "    .dataframe tbody tr th:only-of-type {\n",
       "        vertical-align: middle;\n",
       "    }\n",
       "\n",
       "    .dataframe tbody tr th {\n",
       "        vertical-align: top;\n",
       "    }\n",
       "\n",
       "    .dataframe thead th {\n",
       "        text-align: right;\n",
       "    }\n",
       "</style>\n",
       "<table border=\"1\" class=\"dataframe\">\n",
       "  <thead>\n",
       "    <tr style=\"text-align: right;\">\n",
       "      <th></th>\n",
       "      <th>Drug</th>\n",
       "    </tr>\n",
       "  </thead>\n",
       "  <tbody>\n",
       "    <tr>\n",
       "      <th>0</th>\n",
       "      <td>4</td>\n",
       "    </tr>\n",
       "    <tr>\n",
       "      <th>1</th>\n",
       "      <td>2</td>\n",
       "    </tr>\n",
       "    <tr>\n",
       "      <th>2</th>\n",
       "      <td>2</td>\n",
       "    </tr>\n",
       "    <tr>\n",
       "      <th>3</th>\n",
       "      <td>3</td>\n",
       "    </tr>\n",
       "    <tr>\n",
       "      <th>4</th>\n",
       "      <td>4</td>\n",
       "    </tr>\n",
       "  </tbody>\n",
       "</table>\n",
       "</div>"
      ],
      "text/plain": [
       "   Drug\n",
       "0     4\n",
       "1     2\n",
       "2     2\n",
       "3     3\n",
       "4     4"
      ]
     },
     "execution_count": 98,
     "metadata": {},
     "output_type": "execute_result"
    }
   ],
   "source": [
    "y_dep_cod.head()"
   ]
  },
  {
   "cell_type": "code",
   "execution_count": 99,
   "id": "ed6968da-36af-4ef2-8a77-11a47d3dac20",
   "metadata": {},
   "outputs": [],
   "source": [
    "x_train, x_test, y_train, y_test = train_test_split(x_ind, y_dep_cod, test_size=0.3, random_state=3)"
   ]
  },
  {
   "cell_type": "code",
   "execution_count": 111,
   "id": "2b5a1454-b847-41d9-9eb1-7dadd32e0a2c",
   "metadata": {},
   "outputs": [
    {
     "name": "stdout",
     "output_type": "stream",
     "text": [
      "Fitting 5 folds for each of 144 candidates, totalling 720 fits\n",
      "Solver: newton-cg\n",
      "Mejores hiperparámetros: {'C': 10, 'max_iter': 100, 'multi_class': 'ovr', 'solver': 'newton-cg'}\n",
      "Mejor Accuracy: 0.9833333333333333\n",
      "Mejor ROC AUC: 0.9997557997557998\n",
      "------------------------------\n",
      "Solver: lbfgs\n",
      "Mejores hiperparámetros: {'C': 10, 'max_iter': 100, 'multi_class': 'ovr', 'solver': 'lbfgs'}\n",
      "Mejor Accuracy: 0.9833333333333333\n",
      "Mejor ROC AUC: 0.9992773308562782\n",
      "------------------------------\n",
      "Solver: sag\n",
      "Mejores hiperparámetros: {'C': 1, 'max_iter': 300, 'multi_class': 'multinomial', 'solver': 'sag'}\n",
      "Mejor Accuracy: 0.7666666666666667\n",
      "Mejor ROC AUC: 0.954115081652321\n",
      "------------------------------\n",
      "Solver: saga\n",
      "Mejores hiperparámetros: {'C': 0.1, 'max_iter': 200, 'multi_class': 'multinomial', 'solver': 'saga'}\n",
      "Mejor Accuracy: 0.6833333333333333\n",
      "Mejor ROC AUC: 0.9153610558039554\n",
      "------------------------------\n",
      "Mejores hiperparámetros generales: {'C': 100, 'max_iter': 100, 'multi_class': 'ovr', 'solver': 'newton-cg'}\n",
      "Mejor puntaje de exactitud: 0.9785714285714286\n",
      "Accuracy del modelo final: 0.9666666666666667\n",
      "ROC AUC del modelo final: 0.9994609164420485\n"
     ]
    }
   ],
   "source": [
    "from sklearn.linear_model import LogisticRegression\n",
    "from sklearn.model_selection import GridSearchCV\n",
    "from sklearn.metrics import roc_auc_score, accuracy_score, auc\n",
    "\n",
    "# Definir el modelo de regresión logística\n",
    "RegresionLogistica = LogisticRegression()\n",
    "\n",
    "# Definir la cuadrícula de hiperparámetros para buscar\n",
    "param_grid = {\n",
    "    'solver': ['newton-cg', 'lbfgs', 'sag', 'saga'],  # Excluir 'liblinear' porque es para clasificación binaria\n",
    "    'C': [0.001, 0.01, 0.1, 1, 10, 100],  # Hiperparámetro de regularización\n",
    "    'max_iter': [100, 200, 300],  # Número máximo de iteraciones\n",
    "    'multi_class': ['ovr', 'multinomial']  # Añadir el parámetro multi_class con valores válidos\n",
    "}\n",
    "\n",
    "# Crear el objeto GridSearchCV con la métrica accuracy\n",
    "grid_search = GridSearchCV(estimator=RegresionLogistica, param_grid=param_grid, cv=5, scoring='accuracy', n_jobs=-1, verbose=3, return_train_score=True)\n",
    "\n",
    "# Ajustar el modelo\n",
    "grid_search.fit(x_train, y_train)\n",
    "\n",
    "# Obtener los mejores hiperparámetros\n",
    "best_params = grid_search.best_params_\n",
    "\n",
    "# Crear un diccionario para almacenar los mejores resultados para cada solver\n",
    "best_results = {}\n",
    "\n",
    "for params in grid_search.cv_results_['params']:\n",
    "    solver = params['solver']\n",
    "    if solver not in best_results:\n",
    "        best_results[solver] = {'params': None, 'accuracy': 0, 'roc_auc': 0}\n",
    "    \n",
    "    # Entrenar el modelo con los hiperparámetros actuales\n",
    "    modelo = LogisticRegression(**params)\n",
    "    modelo.fit(x_train, y_train)\n",
    "    \n",
    "    # Hacer predicciones\n",
    "    y_pred = modelo.predict(x_test)\n",
    "    y_pred_proba = modelo.predict_proba(x_test)\n",
    "    \n",
    "    # Calcular métricas\n",
    "    accuracy = accuracy_score(y_test, y_pred)\n",
    "    roc_auc = roc_auc_score(y_test, y_pred_proba, multi_class='ovr')\n",
    "    \n",
    "    # Almacenar el mejor resultado para cada solver\n",
    "    if accuracy > best_results[solver]['accuracy']:\n",
    "        best_results[solver]['params'] = params\n",
    "        best_results[solver]['accuracy'] = accuracy\n",
    "        best_results[solver]['roc_auc'] = roc_auc\n",
    "\n",
    "# Mostrar los mejores resultados para cada solver\n",
    "for solver, result in best_results.items():\n",
    "    print(f\"Solver: {solver}\")\n",
    "    print(f\"Mejores hiperparámetros: {result['params']}\")\n",
    "    print(f\"Mejor Accuracy: {result['accuracy']}\")\n",
    "    print(f\"Mejor ROC AUC: {result['roc_auc']}\")\n",
    "    print(\"-\" * 30)\n",
    "\n",
    "# Mostrar los mejores hiperparámetros generales y el mejor puntaje\n",
    "print(\"Mejores hiperparámetros generales:\", best_params)\n",
    "print(\"Mejor puntaje de exactitud:\", grid_search.best_score_)\n",
    "\n",
    "# Entrenar el modelo final con los mejores hiperparámetros\n",
    "mejor_modelo = LogisticRegression(**best_params)\n",
    "mejor_modelo.fit(x_train, y_train)\n",
    "\n",
    "# Evaluar el modelo final\n",
    "y_pred = mejor_modelo.predict(x_test)\n",
    "y_pred_proba = mejor_modelo.predict_proba(x_test)\n",
    "accuracy = accuracy_score(y_test, y_pred)\n",
    "roc_auc = roc_auc_score(y_test, y_pred_proba, multi_class='ovr') #Parametro multinomial no es valido en roc_auc_score\n",
    "\n",
    "# Mostrar resultados del modelo final\n",
    "print(\"Accuracy del modelo final:\", accuracy)\n",
    "print(\"ROC AUC del modelo final:\", roc_auc)\n"
   ]
  },
  {
   "cell_type": "markdown",
   "id": "0789fa6f-96ba-4033-b075-3bd76cf00a26",
   "metadata": {},
   "source": [
    "### Comparando los 4 solvers que se pueden utilizar en una regresion logistiga con varias clases obtuvimos que hubo dos modelos que fueron competitivos y muy cercanos, el del solver newton-cg y el lbfgs, aunque tuvieron la precision igual lo que determino cual fue el mejor modelo fue el ROC_AUC, area debajo de la curva fue mayor con el solver newton-cg"
   ]
  },
  {
   "cell_type": "code",
   "execution_count": 101,
   "id": "613f247c-5e4e-474a-ad20-2fed5f6e9ffa",
   "metadata": {},
   "outputs": [
    {
     "name": "stdout",
     "output_type": "stream",
     "text": [
      "Rank: 1\n",
      "Parámetros: {'C': 10, 'max_iter': 100, 'multi_class': 'ovr', 'solver': 'lbfgs'}\n",
      "Mean Test Score: 0.9785714285714286\n",
      "--------------------------------------------------\n",
      "Rank: 1\n",
      "Parámetros: {'C': 10, 'max_iter': 100, 'multi_class': 'ovr', 'solver': 'lbfgs'}\n",
      "Mean Test Score: 0.9785714285714286\n",
      "--------------------------------------------------\n",
      "Rank: 1\n",
      "Parámetros: {'C': 10, 'max_iter': 100, 'multi_class': 'ovr', 'solver': 'lbfgs'}\n",
      "Mean Test Score: 0.9785714285714286\n",
      "--------------------------------------------------\n",
      "Rank: 1\n",
      "Parámetros: {'C': 10, 'max_iter': 100, 'multi_class': 'ovr', 'solver': 'lbfgs'}\n",
      "Mean Test Score: 0.9785714285714286\n",
      "--------------------------------------------------\n",
      "Rank: 1\n",
      "Parámetros: {'C': 10, 'max_iter': 100, 'multi_class': 'ovr', 'solver': 'lbfgs'}\n",
      "Mean Test Score: 0.9785714285714286\n",
      "--------------------------------------------------\n",
      "Rank: 1\n",
      "Parámetros: {'C': 10, 'max_iter': 100, 'multi_class': 'ovr', 'solver': 'lbfgs'}\n",
      "Mean Test Score: 0.9785714285714286\n",
      "--------------------------------------------------\n",
      "Rank: 7\n",
      "Parámetros: {'C': 10, 'max_iter': 100, 'multi_class': 'ovr', 'solver': 'lbfgs'}\n",
      "Mean Test Score: 0.9642857142857142\n",
      "--------------------------------------------------\n",
      "Rank: 8\n",
      "Parámetros: {'C': 10, 'max_iter': 100, 'multi_class': 'ovr', 'solver': 'lbfgs'}\n",
      "Mean Test Score: 0.9571428571428573\n",
      "--------------------------------------------------\n",
      "Rank: 8\n",
      "Parámetros: {'C': 10, 'max_iter': 100, 'multi_class': 'ovr', 'solver': 'lbfgs'}\n",
      "Mean Test Score: 0.9571428571428573\n",
      "--------------------------------------------------\n"
     ]
    }
   ],
   "source": [
    "# Obtener los resultados de la búsqueda en la cuadrícula\n",
    "results = {\n",
    "    'params': grid_search.cv_results_['params'],\n",
    "    'mean_test_score': grid_search.cv_results_['mean_test_score'],\n",
    "    'rank_test_score': grid_search.cv_results_['rank_test_score']\n",
    "}\n",
    "\n",
    "# Ordenar los resultados por rank_test_score\n",
    "inidices_acomodados = sorted(range(len(results['rank_test_score'])), key=lambda i: results['rank_test_score'][i])\n",
    "\n",
    "# Mostrar los 3 mejores resultados\n",
    "for modelo in inidices_acomodados[:9]:\n",
    "    params = results['params'][i]\n",
    "    mean_test_score = results['mean_test_score'][modelo]\n",
    "    rank_test_score = results['rank_test_score'][modelo]\n",
    "\n",
    "    print(f\"Rank: {rank_test_score}\")\n",
    "    print(f\"Parámetros: {params}\")\n",
    "    print(f\"Mean Test Score: {mean_test_score}\")\n",
    "    print(\"-\" * 50)"
   ]
  },
  {
   "cell_type": "markdown",
   "id": "a535d7bd-b5f6-47cc-bca7-595b8a792ce1",
   "metadata": {},
   "source": [
    "### De los modelos como el mejor de acuerdo a grid search de los 5 folds utilizaremos el fold que tuvo mejor rendimiento, por ello volvemos a crear otro modelo con los mejores hiperparametros y hacemos la prueba de prediccion"
   ]
  },
  {
   "cell_type": "code",
   "execution_count": 152,
   "id": "2805b0aa-a7a4-464e-9d20-6701216646e3",
   "metadata": {
    "scrolled": true
   },
   "outputs": [
    {
     "name": "stdout",
     "output_type": "stream",
     "text": [
      "Accuracy del modelo final: 0.9666666666666667\n",
      "ROC AUC del modelo final: 0.9997557997557998\n"
     ]
    }
   ],
   "source": [
    "RegresionLogisticaMejor = LogisticRegression(C = 10, max_iter= 100, multi_class= 'ovr', solver= 'newton-cg')\n",
    "\n",
    "RegresionLogisticaMejor.fit(x_train,y_train)\n",
    "\n",
    "y_pred_rlt= RegresionLogisticaMejor.predict(x_test)\n",
    "y_pred_probarlt = RegresionLogisticaMejor.predict_proba(x_test)\n",
    "accuracyrlt = accuracy_score(y_test, y_pred)\n",
    "roc_aucrlt = roc_auc_score(y_test, y_pred_probarlt, multi_class='ovr')\n",
    "\n",
    "print(\"Accuracy del modelo final:\", accuracyrlt)\n",
    "print(\"ROC AUC del modelo final:\", roc_aucrlt)"
   ]
  },
  {
   "cell_type": "code",
   "execution_count": 153,
   "id": "06faa617-806c-4187-9a0b-8b9711bf01d7",
   "metadata": {},
   "outputs": [],
   "source": [
    "import seaborn as sns"
   ]
  },
  {
   "cell_type": "code",
   "execution_count": 154,
   "id": "f2c1c98d-97fe-46e3-bbf1-2ec51033981c",
   "metadata": {},
   "outputs": [
    {
     "name": "stdout",
     "output_type": "stream",
     "text": [
      "\n",
      "Puntaje Regresion Logistica Tuneada: \n",
      "\n",
      "               precision    recall  f1-score   support\n",
      "\n",
      "           0       1.00      1.00      1.00         7\n",
      "           1       1.00      1.00      1.00         5\n",
      "           2       1.00      1.00      1.00         5\n",
      "           3       1.00      0.95      0.98        21\n",
      "           4       0.96      1.00      0.98        22\n",
      "\n",
      "    accuracy                           0.98        60\n",
      "   macro avg       0.99      0.99      0.99        60\n",
      "weighted avg       0.98      0.98      0.98        60\n",
      "\n"
     ]
    },
    {
     "data": {
      "text/plain": [
       "<function matplotlib.pyplot.show(close=None, block=None)>"
      ]
     },
     "execution_count": 154,
     "metadata": {},
     "output_type": "execute_result"
    },
    {
     "data": {
      "image/png": "[encoded data removed]",
      "text/plain": [
       "<Figure size 800x600 with 2 Axes>"
      ]
     },
     "metadata": {},
     "output_type": "display_data"
    }
   ],
   "source": [
    "print(\"\\nPuntaje Regresion Logistica Tuneada: \\n\\n\", classification_report(y_test, y_pred_rlt))\n",
    "cm_RLT=confusion_matrix(y_test, y_pred_rlt)\n",
    "\n",
    "plt.figure(figsize=(8, 6))\n",
    "titulo = \"Matrix de confusion Random Forest\"\n",
    "sns.heatmap(cm_RLT, annot=True, fmt='d', cmap='cividis', cbar=True)\n",
    "plt.title(titulo)  # Agregar el título\n",
    "plt.show"
   ]
  },
  {
   "cell_type": "code",
   "execution_count": 167,
   "id": "c0ecb2f6-3922-4dba-8c4a-0b55158d106f",
   "metadata": {},
   "outputs": [
    {
     "name": "stdout",
     "output_type": "stream",
     "text": [
      "Promedio ROC AUC: 0.9997557997557998\n"
     ]
    },
    {
     "data": {
      "image/png": "[encoded data removed]",
      "text/plain": [
       "<Figure size 800x600 with 1 Axes>"
      ]
     },
     "metadata": {},
     "output_type": "display_data"
    }
   ],
   "source": [
    "# Inicializar las variables para almacenar las curvas ROC y AUC\n",
    "tasa_falsos_positivos = dict()\n",
    "tasa_verdaderos_positivos = dict()\n",
    "area_bajo_curva = dict()\n",
    "\n",
    "\n",
    "# Recorrer cada clase y calcular la curva ROC y el AUC\n",
    "for clase in range(len(RegresionLogisticaMejor.classes_)):\n",
    "    # Calcular las tasas de falsos positivos (FPR) y verdaderos positivos (TPR) para cada clase\n",
    "    tasa_falsos_positivos[clase], tasa_verdaderos_positivos[clase], _ = roc_curve(y_test == clase, y_pred_probarlt[:, clase])\n",
    "    # Calcular el área bajo la curva (AUC) para cada clase\n",
    "    area_bajo_curva[clase] = auc(tasa_falsos_positivos[clase], tasa_verdaderos_positivos[clase])\n",
    "\n",
    "\n",
    "# Calcular la media del AUC\n",
    "mean_roc_auc = np.mean(list(area_bajo_curva.values()))\n",
    "print(\"Promedio ROC AUC:\", mean_roc_auc)\n",
    "\n",
    "# Crear el gráfico de la curva ROC promedio\n",
    "plt.figure(figsize=(8, 6))\n",
    "\n",
    "# Calcular las tasas de verdaderos positivos y falsos positivos promedio\n",
    "mean_fpr = np.linspace(0, 1, 100)\n",
    "mean_tpr = np.mean([np.interp(mean_fpr, tasa_falsos_positivos[i], tasa_verdaderos_positivos[i]) for i in range(len(RegresionLogisticaMejor.classes_))], axis=0)\n",
    "\n",
    "# Aplicar un estilo predefinido de Matplotlib\n",
    "plt.style.use('seaborn-v0_8-darkgrid')\n",
    "              \n",
    "# Graficar la curva ROC promedio\n",
    "plt.plot(mean_fpr, mean_tpr, label=f'ROC promedio (AUC = {mean_roc_auc:.5f})', color='blue')\n",
    "\n",
    "# Añadir una línea diagonal representando un clasificador aleatorio\n",
    "plt.plot([0, 1], [0, 1], linestyle='--', color='gray')\n",
    "\n",
    "\n",
    "# Añadir títulos y etiquetas\n",
    "plt.title('Curva ROC Promedio para Clasificación Multiclase', fontsize=16)\n",
    "plt.xlabel('Tasa de Falsos Positivos (False Positive Rate)', fontsize=14)\n",
    "plt.ylabel('Tasa de Verdaderos Positivos (True Positive Rate)', fontsize=14)\n",
    "\n",
    "# Añadir grid (rejilla)\n",
    "plt.grid(True)\n",
    "\n",
    "# Ajustar las etiquetas del eje\n",
    "plt.xticks(fontsize=12)\n",
    "plt.yticks(fontsize=12)\n",
    "\n",
    "# Mostrar leyenda\n",
    "plt.legend(loc='lower right', fontsize=12)\n",
    "\n",
    "# Ajustar el diseño para evitar superposiciones\n",
    "plt.tight_layout()\n",
    "\n",
    "# Mostrar la gráfica\n",
    "plt.show()"
   ]
  },
  {
   "cell_type": "markdown",
   "id": "8ff4cda1-b966-4929-b46b-fb122342f092",
   "metadata": {},
   "source": [
    "### Al ver el area bajo la curva podeos notar que tiene una discriminacion casi perfecta con el promedio de las clases."
   ]
  },
  {
   "cell_type": "markdown",
   "id": "7e6b25cd-bf16-4904-8307-7f27a2b87ba4",
   "metadata": {},
   "source": [
    " # Caso de prueba"
   ]
  },
  {
   "cell_type": "code",
   "execution_count": 168,
   "id": "63c19940-45ff-4d29-ba30-36d6e186634b",
   "metadata": {},
   "outputs": [],
   "source": [
    "edad = 50\n",
    "sexo = mapeoCaracteristicas['Sex']['F']\n",
    "presion = mapeoCaracteristicas['BP']['HIGH']\n",
    "colesterol = mapeoCaracteristicas['Cholesterol']['NORMAL']\n",
    "Na_to_K = 15.302\n",
    "\n",
    "valores_mapeados = pd.DataFrame([[edad, sexo, presion, colesterol, Na_to_K]], columns=x_train.columns)"
   ]
  },
  {
   "cell_type": "code",
   "execution_count": 169,
   "id": "0eff34fd-fbd5-444f-b4ca-742d5e7d8651",
   "metadata": {},
   "outputs": [
    {
     "data": {
      "text/html": [
       "<div>\n",
       "<style scoped>\n",
       "    .dataframe tbody tr th:only-of-type {\n",
       "        vertical-align: middle;\n",
       "    }\n",
       "\n",
       "    .dataframe tbody tr th {\n",
       "        vertical-align: top;\n",
       "    }\n",
       "\n",
       "    .dataframe thead th {\n",
       "        text-align: right;\n",
       "    }\n",
       "</style>\n",
       "<table border=\"1\" class=\"dataframe\">\n",
       "  <thead>\n",
       "    <tr style=\"text-align: right;\">\n",
       "      <th></th>\n",
       "      <th>Age</th>\n",
       "      <th>Sex</th>\n",
       "      <th>BP</th>\n",
       "      <th>Cholesterol</th>\n",
       "      <th>Na_to_K</th>\n",
       "    </tr>\n",
       "  </thead>\n",
       "  <tbody>\n",
       "    <tr>\n",
       "      <th>0</th>\n",
       "      <td>50</td>\n",
       "      <td>0</td>\n",
       "      <td>0</td>\n",
       "      <td>1</td>\n",
       "      <td>15.302</td>\n",
       "    </tr>\n",
       "  </tbody>\n",
       "</table>\n",
       "</div>"
      ],
      "text/plain": [
       "   Age  Sex  BP  Cholesterol  Na_to_K\n",
       "0   50    0   0            1   15.302"
      ]
     },
     "execution_count": 169,
     "metadata": {},
     "output_type": "execute_result"
    }
   ],
   "source": [
    "valores_mapeados"
   ]
  },
  {
   "cell_type": "code",
   "execution_count": 170,
   "id": "12c1db55-26f0-4991-8b08-c71f530a6d96",
   "metadata": {},
   "outputs": [],
   "source": [
    "inv_mapeoCaracteristicas = {k: {v: key for key, v in value.items()} for k, value in mapeoCaracteristicas.items()}\n",
    "inv_mapeoCaracteristicaDrug = {v: k for k, v in mapeoCaracteristicaDrug.items()}\n"
   ]
  },
  {
   "cell_type": "raw",
   "id": "19799136-13a8-406b-af08-be9d00a6ed86",
   "metadata": {},
   "source": [
    "mapeoCaracteristicas = \n",
    "\n",
    "{ \n",
    "    'BP': {'HIGH': 0, 'LOW': 1, 'NORMAL': 2},\n",
    "    'Sex': {'F': 0, 'M': 1},\n",
    "    'Cholesterol': {'HIGH': 0, 'NORMAL': 1}\n",
    "}\n",
    "\n",
    "\n",
    "\n",
    "\n",
    "inv_mapeoCaracteristicas =\n",
    "\n",
    "{\n",
    "    'BP': {0: 'HIGH', 1: 'LOW', 2: 'NORMAL'},\n",
    "    'Sex': {0: 'F', 1: 'M'},\n",
    "    'Cholesterol': {0: 'HIGH', 1: 'NORMAL'}\n",
    "}\n",
    "\n",
    "\n",
    "mapeoCaracteristicaDrug=\n",
    "\n",
    "{'drugA': 0, 'drugB': 1, 'drugC': 2, 'drugX': 3, 'drugY': 4}\n",
    "\n",
    "\n",
    "\n",
    "\n",
    "inv_mapeoCaracteristicaDrug =\n",
    "\n",
    "{0: 'drugA', 1: 'drugB', 2: 'drugC', 3: 'drugX', 4: 'drugY'}"
   ]
  },
  {
   "cell_type": "code",
   "execution_count": 174,
   "id": "f282cd1a-6231-4a16-8623-64afe50aad81",
   "metadata": {},
   "outputs": [
    {
     "data": {
      "text/plain": [
       "'drugY'"
      ]
     },
     "execution_count": 174,
     "metadata": {},
     "output_type": "execute_result"
    }
   ],
   "source": [
    "#Prediccion de resultado\n",
    "y_pred_prueba=RegresionLogisticaMejor.predict(valores_mapeados)\n",
    "#Extraccion del resultado en el array\n",
    "y_pred_prueba = y_pred_prueba[0]\n",
    "\n",
    "#Mapeo de respuesta en el diccionario invertido\n",
    "resultado = inv_mapeoCaracteristicaDrug[y_pred_prueba]\n",
    "resultado"
   ]
  }
 ],
 "metadata": {
  "kernelspec": {
   "display_name": "Python 3 (ipykernel)",
   "language": "python",
   "name": "python3"
  },
  "language_info": {
   "codemirror_mode": {
    "name": "ipython",
    "version": 3
   },
   "file_extension": ".py",
   "mimetype": "text/x-python",
   "name": "python",
   "nbconvert_exporter": "python",
   "pygments_lexer": "ipython3",
   "version": "3.12.7"
  }
 },
 "nbformat": 4,
 "nbformat_minor": 5
}

{
 "cells": [
  {
   "cell_type": "code",
   "execution_count": 26,
   "id": "8048b9cb-75c8-41fd-8016-3b12f441f1a7",
   "metadata": {},
   "outputs": [],
   "source": [
    "import pandas as pd\n",
    "import numpy as np\n",
    "import matplotlib.pyplot as plt"
   ]
  },
  {
   "cell_type": "code",
   "execution_count": 27,
   "id": "cbdb65d9-259d-4463-a11c-b279695f5ac7",
   "metadata": {},
   "outputs": [],
   "source": [
    "df_amazon =  pd.read_excel(\"Amazon.xlsx\")"
   ]
  },
  {
   "cell_type": "code",
   "execution_count": 28,
   "id": "90f2807b-2dd4-4645-acb1-86a92fe34738",
   "metadata": {},
   "outputs": [
    {
     "name": "stdout",
     "output_type": "stream",
     "text": [
      "<class 'pandas.core.frame.DataFrame'>\n",
      "RangeIndex: 100 entries, 0 to 99\n",
      "Data columns (total 10 columns):\n",
      " #   Column             Non-Null Count  Dtype \n",
      "---  ------             --------------  ----- \n",
      " 0   Unnamed: 0         100 non-null    object\n",
      " 1   Velocidad Entrega  100 non-null    int64 \n",
      " 2   Precio             100 non-null    int64 \n",
      " 3   Durabilidad        100 non-null    int64 \n",
      " 4   Imagen Producto    100 non-null    int64 \n",
      " 5   Valor Educativo    100 non-null    int64 \n",
      " 6   Servicio Retorno   100 non-null    int64 \n",
      " 7   Tamano Paquete     100 non-null    int64 \n",
      " 8   Calidad Producto   100 non-null    int64 \n",
      " 9   Numero Estrellas   100 non-null    int64 \n",
      "dtypes: int64(9), object(1)\n",
      "memory usage: 7.9+ KB\n"
     ]
    }
   ],
   "source": [
    "df_amazon.info()"
   ]
  },
  {
   "cell_type": "code",
   "execution_count": 36,
   "id": "45552718-8709-4896-9f66-2bc69d69b786",
   "metadata": {},
   "outputs": [],
   "source": [
    "df_amazon = df_amazon.rename(columns = {'Unnamed: 0': 'Nombres'})"
   ]
  },
  {
   "cell_type": "code",
   "execution_count": 37,
   "id": "d96b4eda-220c-46de-90ed-297ecda72e00",
   "metadata": {},
   "outputs": [
    {
     "data": {
      "text/plain": [
       "Nombres              0\n",
       "Velocidad Entrega    0\n",
       "Precio               0\n",
       "Durabilidad          0\n",
       "Imagen Producto      0\n",
       "Valor Educativo      0\n",
       "Servicio Retorno     0\n",
       "Tamano Paquete       0\n",
       "Calidad Producto     0\n",
       "Numero Estrellas     0\n",
       "dtype: int64"
      ]
     },
     "execution_count": 37,
     "metadata": {},
     "output_type": "execute_result"
    }
   ],
   "source": [
    "df_amazon.drop_duplicates()\n",
    "df_amazon.isnull().sum()"
   ]
  },
  {
   "cell_type": "code",
   "execution_count": 44,
   "id": "e6c703e4-5434-4a10-a203-c6814da96669",
   "metadata": {},
   "outputs": [
    {
     "name": "stdout",
     "output_type": "stream",
     "text": [
      "\n",
      "\n",
      "<class 'pandas.core.frame.DataFrame'>\n",
      "RangeIndex: 100 entries, 0 to 99\n",
      "Data columns (total 9 columns):\n",
      " #   Column             Non-Null Count  Dtype\n",
      "---  ------             --------------  -----\n",
      " 0   Velocidad Entrega  100 non-null    int64\n",
      " 1   Precio             100 non-null    int64\n",
      " 2   Durabilidad        100 non-null    int64\n",
      " 3   Imagen Producto    100 non-null    int64\n",
      " 4   Valor Educativo    100 non-null    int64\n",
      " 5   Servicio Retorno   100 non-null    int64\n",
      " 6   Tamano Paquete     100 non-null    int64\n",
      " 7   Calidad Producto   100 non-null    int64\n",
      " 8   Numero Estrellas   100 non-null    int64\n",
      "dtypes: int64(9)\n",
      "memory usage: 7.2 KB\n",
      "\n",
      "\n",
      "<class 'pandas.core.series.Series'>\n",
      "RangeIndex: 100 entries, 0 to 99\n",
      "Series name: Nombres\n",
      "Non-Null Count  Dtype \n",
      "--------------  ----- \n",
      "100 non-null    object\n",
      "dtypes: object(1)\n",
      "memory usage: 932.0+ bytes\n"
     ]
    },
    {
     "data": {
      "text/plain": [
       "(None, None, None, None)"
      ]
     },
     "execution_count": 44,
     "metadata": {},
     "output_type": "execute_result"
    }
   ],
   "source": [
    "df_amazon_nombres = df_amazon.Nombres\n",
    "df_amazon_valores = df_amazon.drop(\"Nombres\", axis=1)\n",
    "print('\\n'), df_amazon_valores.info(),  print('\\n'),  df_amazon_nombres.info()"
   ]
  },
  {
   "cell_type": "code",
   "execution_count": 50,
   "id": "3c63a848-112f-4fc8-9c0f-5db9523779cf",
   "metadata": {},
   "outputs": [],
   "source": [
    "import scipy.cluster.hierarchy as shc\n",
    "from sklearn.preprocessing import normalize\n",
    "from sklearn import decomposition as decomp"
   ]
  },
  {
   "cell_type": "code",
   "execution_count": 53,
   "id": "1cb450ff-ff07-4ce3-9f92-444a867681ab",
   "metadata": {},
   "outputs": [],
   "source": [
    "df_amazon_valores_scaled  =  pd.DataFrame(normalize(df_amazon_valores))"
   ]
  },
  {
   "cell_type": "code",
   "execution_count": 54,
   "id": "c485de40-2238-4d27-be7e-9e84a2719f5f",
   "metadata": {},
   "outputs": [
    {
     "data": {
      "text/html": [
       "<div>\n",
       "<style scoped>\n",
       "    .dataframe tbody tr th:only-of-type {\n",
       "        vertical-align: middle;\n",
       "    }\n",
       "\n",
       "    .dataframe tbody tr th {\n",
       "        vertical-align: top;\n",
       "    }\n",
       "\n",
       "    .dataframe thead th {\n",
       "        text-align: right;\n",
       "    }\n",
       "</style>\n",
       "<table border=\"1\" class=\"dataframe\">\n",
       "  <thead>\n",
       "    <tr style=\"text-align: right;\">\n",
       "      <th></th>\n",
       "      <th>0</th>\n",
       "      <th>1</th>\n",
       "      <th>2</th>\n",
       "      <th>3</th>\n",
       "      <th>4</th>\n",
       "      <th>5</th>\n",
       "      <th>6</th>\n",
       "      <th>7</th>\n",
       "      <th>8</th>\n",
       "    </tr>\n",
       "  </thead>\n",
       "  <tbody>\n",
       "    <tr>\n",
       "      <th>0</th>\n",
       "      <td>0.438263</td>\n",
       "      <td>0.006414</td>\n",
       "      <td>0.737565</td>\n",
       "      <td>0.502399</td>\n",
       "      <td>0.051309</td>\n",
       "      <td>0.049171</td>\n",
       "      <td>0.055585</td>\n",
       "      <td>0.044895</td>\n",
       "      <td>0.036344</td>\n",
       "    </tr>\n",
       "    <tr>\n",
       "      <th>1</th>\n",
       "      <td>0.023235</td>\n",
       "      <td>0.038725</td>\n",
       "      <td>0.813234</td>\n",
       "      <td>0.085196</td>\n",
       "      <td>0.064542</td>\n",
       "      <td>0.010327</td>\n",
       "      <td>0.108431</td>\n",
       "      <td>0.555065</td>\n",
       "      <td>0.072287</td>\n",
       "    </tr>\n",
       "    <tr>\n",
       "      <th>2</th>\n",
       "      <td>0.057235</td>\n",
       "      <td>0.087535</td>\n",
       "      <td>0.959520</td>\n",
       "      <td>0.010100</td>\n",
       "      <td>0.144770</td>\n",
       "      <td>0.090902</td>\n",
       "      <td>0.138036</td>\n",
       "      <td>0.087535</td>\n",
       "      <td>0.111102</td>\n",
       "    </tr>\n",
       "    <tr>\n",
       "      <th>3</th>\n",
       "      <td>0.258856</td>\n",
       "      <td>0.009587</td>\n",
       "      <td>0.680696</td>\n",
       "      <td>0.565649</td>\n",
       "      <td>0.034514</td>\n",
       "      <td>0.044101</td>\n",
       "      <td>0.074781</td>\n",
       "      <td>0.373904</td>\n",
       "      <td>0.032597</td>\n",
       "    </tr>\n",
       "    <tr>\n",
       "      <th>4</th>\n",
       "      <td>0.011975</td>\n",
       "      <td>0.179625</td>\n",
       "      <td>0.191600</td>\n",
       "      <td>0.155675</td>\n",
       "      <td>0.135717</td>\n",
       "      <td>0.183617</td>\n",
       "      <td>0.898127</td>\n",
       "      <td>0.135717</td>\n",
       "      <td>0.171642</td>\n",
       "    </tr>\n",
       "    <tr>\n",
       "      <th>...</th>\n",
       "      <td>...</td>\n",
       "      <td>...</td>\n",
       "      <td>...</td>\n",
       "      <td>...</td>\n",
       "      <td>...</td>\n",
       "      <td>...</td>\n",
       "      <td>...</td>\n",
       "      <td>...</td>\n",
       "      <td>...</td>\n",
       "    </tr>\n",
       "    <tr>\n",
       "      <th>95</th>\n",
       "      <td>0.045932</td>\n",
       "      <td>0.122484</td>\n",
       "      <td>0.489936</td>\n",
       "      <td>0.382763</td>\n",
       "      <td>0.107174</td>\n",
       "      <td>0.321521</td>\n",
       "      <td>0.643041</td>\n",
       "      <td>0.260279</td>\n",
       "      <td>0.015311</td>\n",
       "    </tr>\n",
       "    <tr>\n",
       "      <th>96</th>\n",
       "      <td>0.640241</td>\n",
       "      <td>0.052479</td>\n",
       "      <td>0.096561</td>\n",
       "      <td>0.050380</td>\n",
       "      <td>0.069272</td>\n",
       "      <td>0.058776</td>\n",
       "      <td>0.745198</td>\n",
       "      <td>0.054578</td>\n",
       "      <td>0.094462</td>\n",
       "    </tr>\n",
       "    <tr>\n",
       "      <th>97</th>\n",
       "      <td>0.005043</td>\n",
       "      <td>0.070602</td>\n",
       "      <td>0.131118</td>\n",
       "      <td>0.126075</td>\n",
       "      <td>0.121032</td>\n",
       "      <td>0.136161</td>\n",
       "      <td>0.211805</td>\n",
       "      <td>0.932952</td>\n",
       "      <td>0.115989</td>\n",
       "    </tr>\n",
       "    <tr>\n",
       "      <th>98</th>\n",
       "      <td>0.357707</td>\n",
       "      <td>0.025386</td>\n",
       "      <td>0.773109</td>\n",
       "      <td>0.078465</td>\n",
       "      <td>0.060003</td>\n",
       "      <td>0.066926</td>\n",
       "      <td>0.096927</td>\n",
       "      <td>0.496175</td>\n",
       "      <td>0.062310</td>\n",
       "    </tr>\n",
       "    <tr>\n",
       "      <th>99</th>\n",
       "      <td>0.891358</td>\n",
       "      <td>0.064178</td>\n",
       "      <td>0.320889</td>\n",
       "      <td>0.178272</td>\n",
       "      <td>0.156879</td>\n",
       "      <td>0.021393</td>\n",
       "      <td>0.021393</td>\n",
       "      <td>0.156879</td>\n",
       "      <td>0.128356</td>\n",
       "    </tr>\n",
       "  </tbody>\n",
       "</table>\n",
       "<p>100 rows × 9 columns</p>\n",
       "</div>"
      ],
      "text/plain": [
       "           0         1         2         3         4         5         6  \\\n",
       "0   0.438263  0.006414  0.737565  0.502399  0.051309  0.049171  0.055585   \n",
       "1   0.023235  0.038725  0.813234  0.085196  0.064542  0.010327  0.108431   \n",
       "2   0.057235  0.087535  0.959520  0.010100  0.144770  0.090902  0.138036   \n",
       "3   0.258856  0.009587  0.680696  0.565649  0.034514  0.044101  0.074781   \n",
       "4   0.011975  0.179625  0.191600  0.155675  0.135717  0.183617  0.898127   \n",
       "..       ...       ...       ...       ...       ...       ...       ...   \n",
       "95  0.045932  0.122484  0.489936  0.382763  0.107174  0.321521  0.643041   \n",
       "96  0.640241  0.052479  0.096561  0.050380  0.069272  0.058776  0.745198   \n",
       "97  0.005043  0.070602  0.131118  0.126075  0.121032  0.136161  0.211805   \n",
       "98  0.357707  0.025386  0.773109  0.078465  0.060003  0.066926  0.096927   \n",
       "99  0.891358  0.064178  0.320889  0.178272  0.156879  0.021393  0.021393   \n",
       "\n",
       "           7         8  \n",
       "0   0.044895  0.036344  \n",
       "1   0.555065  0.072287  \n",
       "2   0.087535  0.111102  \n",
       "3   0.373904  0.032597  \n",
       "4   0.135717  0.171642  \n",
       "..       ...       ...  \n",
       "95  0.260279  0.015311  \n",
       "96  0.054578  0.094462  \n",
       "97  0.932952  0.115989  \n",
       "98  0.496175  0.062310  \n",
       "99  0.156879  0.128356  \n",
       "\n",
       "[100 rows x 9 columns]"
      ]
     },
     "execution_count": 54,
     "metadata": {},
     "output_type": "execute_result"
    }
   ],
   "source": [
    "df_amazon_valores_scaled"
   ]
  },
  {
   "cell_type": "code",
   "execution_count": 66,
   "id": "33ab61fd-b648-48b5-93b7-edef6c06156c",
   "metadata": {},
   "outputs": [
    {
     "data": {
      "text/plain": [
       "Text(0.5, 1.0, 'Dendograma Amazon Clientes')"
      ]
     },
     "execution_count": 66,
     "metadata": {},
     "output_type": "execute_result"
    },
    {
     "data": {
      "image/png": "[encoded data removed]",
      "text/plain": [
       "<Figure size 1200x800 with 1 Axes>"
      ]
     },
     "metadata": {},
     "output_type": "display_data"
    }
   ],
   "source": [
    "plt.figure(figsize=(12,8))\n",
    "dendograma = shc.dendrogram(shc.linkage(df_amazon_valores_scaled, method='ward'))\n",
    "plt.title(\"Dendograma Amazon Clientes\")"
   ]
  },
  {
   "cell_type": "code",
   "execution_count": 71,
   "id": "be5e2fbe-eb9f-4628-8352-20d6bb17808c",
   "metadata": {},
   "outputs": [
    {
     "data": {
      "text/plain": [
       "<matplotlib.lines.Line2D at 0x22cbd7e7d40>"
      ]
     },
     "execution_count": 71,
     "metadata": {},
     "output_type": "execute_result"
    },
    {
     "data": {
      "image/png": "[encoded data removed]",
      "text/plain": [
       "<Figure size 1200x800 with 1 Axes>"
      ]
     },
     "metadata": {},
     "output_type": "display_data"
    }
   ],
   "source": [
    "plt.figure(figsize=(12,8))\n",
    "dendograma = shc.dendrogram(shc.linkage(df_amazon_valores_scaled, method='ward'))\n",
    "plt.title(\"Dendograma Amazon Clientes\")\n",
    "plt.axhline(y=2.5, c=\"r\", linestyle=\"--\")"
   ]
  },
  {
   "cell_type": "code",
   "execution_count": 64,
   "id": "ceb643a0-27f9-4b14-92a8-f8845054743c",
   "metadata": {},
   "outputs": [
    {
     "name": "stdout",
     "output_type": "stream",
     "text": [
      "Número de clusters óptimo: 3\n"
     ]
    }
   ],
   "source": [
    "colores_unicos = set(dendograma['color_list'])\n",
    "num_clusters_optimo = len(colores_unicos) - 1\n",
    "print(\"Número de clusters óptimo:\" , num_clusters_optimo)"
   ]
  },
  {
   "cell_type": "code",
   "execution_count": 182,
   "id": "1ad76e92-7558-4fb3-a551-e58544f89220",
   "metadata": {},
   "outputs": [
    {
     "data": {
      "text/plain": [
       "array([[ 0.39993219, -0.06035374],\n",
       "       [ 0.40829583,  0.06402268],\n",
       "       [ 0.49703182,  0.35955286],\n",
       "       [ 0.33996675, -0.18434501],\n",
       "       [-0.58207751,  0.38797653]])"
      ]
     },
     "execution_count": 182,
     "metadata": {},
     "output_type": "execute_result"
    }
   ],
   "source": [
    "pca =  decomp.PCA(n_components=2)\n",
    "df_amazonPCA = pca.fit_transform(df_amazon_valores_scaled)\n",
    "df_amazonPCA[:5]"
   ]
  },
  {
   "cell_type": "code",
   "execution_count": 101,
   "id": "f990fb42-40d6-4aeb-9d4a-29164fcf46e8",
   "metadata": {},
   "outputs": [
    {
     "data": {
      "text/plain": [
       "array([1, 1, 1, 1, 2, 2, 1, 2, 0, 2, 0, 2, 1, 2, 1, 1, 1, 2, 1, 1, 2, 1,\n",
       "       1, 1, 1, 1, 0, 2, 1, 1, 0, 1, 1, 0, 1, 1, 2, 1, 2, 0, 2, 0, 1, 2,\n",
       "       2, 2, 0, 2, 2, 0, 0, 2, 1, 1, 1, 2, 0, 2, 0, 2, 1, 0, 1, 1, 0, 0,\n",
       "       2, 2, 1, 2, 1, 2, 1, 2, 0, 2, 2, 1, 2, 1, 1, 2, 1, 0, 1, 0, 2, 0,\n",
       "       1, 1, 2, 0, 2, 0, 1, 2, 2, 0, 1, 0], dtype=int64)"
      ]
     },
     "execution_count": 101,
     "metadata": {},
     "output_type": "execute_result"
    }
   ],
   "source": [
    "from sklearn.cluster import AgglomerativeClustering\n",
    "cluster = AgglomerativeClustering(n_clusters = 3, metric = 'euclidean', linkage= 'ward')\n",
    "grupos = cluster.fit_predict(df_amazon_valores_scaled)\n",
    "grupos"
   ]
  },
  {
   "cell_type": "code",
   "execution_count": 271,
   "id": "c3790fa6-2f2c-4021-89b9-d3af9ac58906",
   "metadata": {},
   "outputs": [
    {
     "data": {
      "image/png": "[encoded data removed]",
      "text/plain": [
       "<Figure size 1200x800 with 1 Axes>"
      ]
     },
     "metadata": {},
     "output_type": "display_data"
    }
   ],
   "source": [
    "# Graficar con matplotlib, figura y luego creando grafica de dispersion\n",
    "plt.figure(figsize=(12,8))\n",
    "dispersion_amazon = plt.scatter(df_amazonPCA[:, 0], df_amazonPCA[:, 1], c =  cluster.labels_ , cmap = 'viridis', marker='v' )\n",
    "\n",
    "# Guardar etiquetas\n",
    "cluster_labels = np.unique(cluster.labels_)\n",
    "\n",
    "# Añadir la leyenda al gráfico\n",
    "plt.title('Clustering después de PCA')\n",
    "plt.xlabel('Componente Principal 1')\n",
    "plt.ylabel('Componente Principal 2')\n",
    "\n",
    "# Crear la leyenda con números de clusters y colores correspondientes\n",
    "handles, labels = dispersion_amazon.legend_elements()\n",
    "plt.legend(handles, [f'Cluster {i}' for i in cluster_labels], title=\"Clusters\")\n",
    "\n",
    "\n",
    "# Mostrar el gráfico\n",
    "plt.show()\n"
   ]
  },
  {
   "cell_type": "code",
   "execution_count": 270,
   "id": "ee165f0c-6ae6-486d-a19d-63153f272bc5",
   "metadata": {},
   "outputs": [
    {
     "data": {
      "image/png": "[encoded data removed]",
      "text/plain": [
       "<Figure size 1200x800 with 1 Axes>"
      ]
     },
     "metadata": {},
     "output_type": "display_data"
    }
   ],
   "source": [
    "import seaborn as sns\n",
    "\n",
    "# Grafico con sea born con figura de matplotlib\n",
    "plt.figure(figsize=(12,8))\n",
    "dispersion_amazon2 = sns.scatterplot(x=df_amazonPCA[:, 0], y=df_amazonPCA[:, 1], hue=cluster.labels_, palette='viridis')\n",
    "\n",
    "# Añadir la leyenda al gráfico\n",
    "plt.title('Clustering después de PCA')\n",
    "plt.xlabel('Componente Principal 1')\n",
    "plt.ylabel('Componente Principal 2')\n",
    "\n",
    "# Mostrar el gráfico\n",
    "plt.show()\n"
   ]
  },
  {
   "cell_type": "code",
   "execution_count": 212,
   "id": "f51f38fa-9b45-467b-994c-9e8512641fc6",
   "metadata": {},
   "outputs": [
    {
     "data": {
      "text/html": [
       "<div>\n",
       "<style scoped>\n",
       "    .dataframe tbody tr th:only-of-type {\n",
       "        vertical-align: middle;\n",
       "    }\n",
       "\n",
       "    .dataframe tbody tr th {\n",
       "        vertical-align: top;\n",
       "    }\n",
       "\n",
       "    .dataframe thead th {\n",
       "        text-align: right;\n",
       "    }\n",
       "</style>\n",
       "<table border=\"1\" class=\"dataframe\">\n",
       "  <thead>\n",
       "    <tr style=\"text-align: right;\">\n",
       "      <th></th>\n",
       "      <th>Nombres</th>\n",
       "      <th>Velocidad Entrega</th>\n",
       "      <th>Precio</th>\n",
       "      <th>Durabilidad</th>\n",
       "      <th>Imagen Producto</th>\n",
       "      <th>Valor Educativo</th>\n",
       "      <th>Servicio Retorno</th>\n",
       "      <th>Tamano Paquete</th>\n",
       "      <th>Calidad Producto</th>\n",
       "      <th>Numero Estrellas</th>\n",
       "      <th>Grupo</th>\n",
       "    </tr>\n",
       "  </thead>\n",
       "  <tbody>\n",
       "    <tr>\n",
       "      <th>0</th>\n",
       "      <td>Adam</td>\n",
       "      <td>205</td>\n",
       "      <td>3</td>\n",
       "      <td>345</td>\n",
       "      <td>235</td>\n",
       "      <td>24</td>\n",
       "      <td>23</td>\n",
       "      <td>26</td>\n",
       "      <td>21</td>\n",
       "      <td>17</td>\n",
       "      <td>1</td>\n",
       "    </tr>\n",
       "    <tr>\n",
       "      <th>1</th>\n",
       "      <td>Anna</td>\n",
       "      <td>9</td>\n",
       "      <td>15</td>\n",
       "      <td>315</td>\n",
       "      <td>33</td>\n",
       "      <td>25</td>\n",
       "      <td>4</td>\n",
       "      <td>42</td>\n",
       "      <td>215</td>\n",
       "      <td>28</td>\n",
       "      <td>1</td>\n",
       "    </tr>\n",
       "    <tr>\n",
       "      <th>2</th>\n",
       "      <td>Bernard</td>\n",
       "      <td>17</td>\n",
       "      <td>26</td>\n",
       "      <td>285</td>\n",
       "      <td>3</td>\n",
       "      <td>43</td>\n",
       "      <td>27</td>\n",
       "      <td>41</td>\n",
       "      <td>26</td>\n",
       "      <td>33</td>\n",
       "      <td>1</td>\n",
       "    </tr>\n",
       "    <tr>\n",
       "      <th>3</th>\n",
       "      <td>Edward</td>\n",
       "      <td>135</td>\n",
       "      <td>5</td>\n",
       "      <td>355</td>\n",
       "      <td>295</td>\n",
       "      <td>18</td>\n",
       "      <td>23</td>\n",
       "      <td>39</td>\n",
       "      <td>195</td>\n",
       "      <td>17</td>\n",
       "      <td>1</td>\n",
       "    </tr>\n",
       "    <tr>\n",
       "      <th>4</th>\n",
       "      <td>Emilia</td>\n",
       "      <td>3</td>\n",
       "      <td>45</td>\n",
       "      <td>48</td>\n",
       "      <td>39</td>\n",
       "      <td>34</td>\n",
       "      <td>46</td>\n",
       "      <td>225</td>\n",
       "      <td>34</td>\n",
       "      <td>43</td>\n",
       "      <td>2</td>\n",
       "    </tr>\n",
       "  </tbody>\n",
       "</table>\n",
       "</div>"
      ],
      "text/plain": [
       "   Nombres  Velocidad Entrega  Precio  Durabilidad  Imagen Producto  \\\n",
       "0     Adam                205       3          345              235   \n",
       "1     Anna                  9      15          315               33   \n",
       "2  Bernard                 17      26          285                3   \n",
       "3   Edward                135       5          355              295   \n",
       "4   Emilia                  3      45           48               39   \n",
       "\n",
       "   Valor Educativo  Servicio Retorno  Tamano Paquete  Calidad Producto  \\\n",
       "0               24                23              26                21   \n",
       "1               25                 4              42               215   \n",
       "2               43                27              41                26   \n",
       "3               18                23              39               195   \n",
       "4               34                46             225                34   \n",
       "\n",
       "   Numero Estrellas  Grupo  \n",
       "0                17      1  \n",
       "1                28      1  \n",
       "2                33      1  \n",
       "3                17      1  \n",
       "4                43      2  "
      ]
     },
     "execution_count": 212,
     "metadata": {},
     "output_type": "execute_result"
    }
   ],
   "source": [
    "df_amazon['Grupo'] = pd.DataFrame(grupos, columns=['Grupo'])\n",
    "df_amazon.head()"
   ]
  },
  {
   "cell_type": "code",
   "execution_count": 213,
   "id": "cae7752d-924b-45e4-aee9-6f5d48168410",
   "metadata": {},
   "outputs": [
    {
     "data": {
      "text/plain": [
       "Grupo\n",
       "1    42\n",
       "2    35\n",
       "0    23\n",
       "Name: count, dtype: int64"
      ]
     },
     "execution_count": 213,
     "metadata": {},
     "output_type": "execute_result"
    }
   ],
   "source": [
    "df_amazon['Grupo'].value_counts()"
   ]
  },
  {
   "cell_type": "markdown",
   "id": "1bb90c1a-571a-4a90-ae6a-0d1a96361a7f",
   "metadata": {},
   "source": [
    "## Ejercicio"
   ]
  },
  {
   "cell_type": "code",
   "execution_count": 242,
   "id": "bf51795e-9917-4526-9bbd-7e7a0a15f80f",
   "metadata": {},
   "outputs": [
    {
     "data": {
      "text/html": [
       "<div>\n",
       "<style scoped>\n",
       "    .dataframe tbody tr th:only-of-type {\n",
       "        vertical-align: middle;\n",
       "    }\n",
       "\n",
       "    .dataframe tbody tr th {\n",
       "        vertical-align: top;\n",
       "    }\n",
       "\n",
       "    .dataframe thead th {\n",
       "        text-align: right;\n",
       "    }\n",
       "</style>\n",
       "<table border=\"1\" class=\"dataframe\">\n",
       "  <thead>\n",
       "    <tr style=\"text-align: right;\">\n",
       "      <th></th>\n",
       "      <th>Nombres</th>\n",
       "      <th>Velocidad Entrega</th>\n",
       "      <th>Precio</th>\n",
       "      <th>Durabilidad</th>\n",
       "      <th>Imagen Producto</th>\n",
       "      <th>Valor Educativo</th>\n",
       "      <th>Servicio Retorno</th>\n",
       "      <th>Tamano Paquete</th>\n",
       "      <th>Calidad Producto</th>\n",
       "      <th>Numero Estrellas</th>\n",
       "      <th>Grupo</th>\n",
       "    </tr>\n",
       "  </thead>\n",
       "  <tbody>\n",
       "    <tr>\n",
       "      <th>81</th>\n",
       "      <td>Salome</td>\n",
       "      <td>17</td>\n",
       "      <td>23</td>\n",
       "      <td>275</td>\n",
       "      <td>41</td>\n",
       "      <td>4</td>\n",
       "      <td>44</td>\n",
       "      <td>315</td>\n",
       "      <td>28</td>\n",
       "      <td>32</td>\n",
       "      <td>2</td>\n",
       "    </tr>\n",
       "  </tbody>\n",
       "</table>\n",
       "</div>"
      ],
      "text/plain": [
       "   Nombres  Velocidad Entrega  Precio  Durabilidad  Imagen Producto  \\\n",
       "81  Salome                 17      23          275               41   \n",
       "\n",
       "    Valor Educativo  Servicio Retorno  Tamano Paquete  Calidad Producto  \\\n",
       "81                4                44             315                28   \n",
       "\n",
       "    Numero Estrellas  Grupo  \n",
       "81                32      2  "
      ]
     },
     "execution_count": 242,
     "metadata": {},
     "output_type": "execute_result"
    }
   ],
   "source": [
    "# Buscar a \"Salome, Stephania, Lydia\" en la columna \"Nombres\"\n",
    "salome = df_amazon[df_amazon['Nombres'] == 'Salome']\n",
    "salome"
   ]
  },
  {
   "cell_type": "markdown",
   "id": "b750b18a-95db-49d4-997b-cbcf96260298",
   "metadata": {},
   "source": [
    "### Salome pertenece al grupo 2"
   ]
  },
  {
   "cell_type": "code",
   "execution_count": 241,
   "id": "834fa8c0-e3e2-4f55-a895-ed16dc076233",
   "metadata": {},
   "outputs": [
    {
     "data": {
      "text/html": [
       "<div>\n",
       "<style scoped>\n",
       "    .dataframe tbody tr th:only-of-type {\n",
       "        vertical-align: middle;\n",
       "    }\n",
       "\n",
       "    .dataframe tbody tr th {\n",
       "        vertical-align: top;\n",
       "    }\n",
       "\n",
       "    .dataframe thead th {\n",
       "        text-align: right;\n",
       "    }\n",
       "</style>\n",
       "<table border=\"1\" class=\"dataframe\">\n",
       "  <thead>\n",
       "    <tr style=\"text-align: right;\">\n",
       "      <th></th>\n",
       "      <th>Nombres</th>\n",
       "      <th>Velocidad Entrega</th>\n",
       "      <th>Precio</th>\n",
       "      <th>Durabilidad</th>\n",
       "      <th>Imagen Producto</th>\n",
       "      <th>Valor Educativo</th>\n",
       "      <th>Servicio Retorno</th>\n",
       "      <th>Tamano Paquete</th>\n",
       "      <th>Calidad Producto</th>\n",
       "      <th>Numero Estrellas</th>\n",
       "      <th>Grupo</th>\n",
       "    </tr>\n",
       "  </thead>\n",
       "  <tbody>\n",
       "    <tr>\n",
       "      <th>89</th>\n",
       "      <td>Stephania</td>\n",
       "      <td>215</td>\n",
       "      <td>125</td>\n",
       "      <td>465</td>\n",
       "      <td>315</td>\n",
       "      <td>34</td>\n",
       "      <td>4</td>\n",
       "      <td>37</td>\n",
       "      <td>305</td>\n",
       "      <td>45</td>\n",
       "      <td>1</td>\n",
       "    </tr>\n",
       "  </tbody>\n",
       "</table>\n",
       "</div>"
      ],
      "text/plain": [
       "      Nombres  Velocidad Entrega  Precio  Durabilidad  Imagen Producto  \\\n",
       "89  Stephania                215     125          465              315   \n",
       "\n",
       "    Valor Educativo  Servicio Retorno  Tamano Paquete  Calidad Producto  \\\n",
       "89               34                 4              37               305   \n",
       "\n",
       "    Numero Estrellas  Grupo  \n",
       "89                45      1  "
      ]
     },
     "execution_count": 241,
     "metadata": {},
     "output_type": "execute_result"
    }
   ],
   "source": [
    "stephania = df_amazon[df_amazon['Nombres'] == 'Stephania']\n",
    "stephania"
   ]
  },
  {
   "cell_type": "code",
   "execution_count": 248,
   "id": "1b1b8e5e-29a2-4b6a-bc1e-a0e7eb39003f",
   "metadata": {},
   "outputs": [
    {
     "data": {
      "text/html": [
       "<div>\n",
       "<style scoped>\n",
       "    .dataframe tbody tr th:only-of-type {\n",
       "        vertical-align: middle;\n",
       "    }\n",
       "\n",
       "    .dataframe tbody tr th {\n",
       "        vertical-align: top;\n",
       "    }\n",
       "\n",
       "    .dataframe thead th {\n",
       "        text-align: right;\n",
       "    }\n",
       "</style>\n",
       "<table border=\"1\" class=\"dataframe\">\n",
       "  <thead>\n",
       "    <tr style=\"text-align: right;\">\n",
       "      <th></th>\n",
       "      <th>Nombres</th>\n",
       "      <th>Velocidad Entrega</th>\n",
       "      <th>Precio</th>\n",
       "      <th>Durabilidad</th>\n",
       "      <th>Imagen Producto</th>\n",
       "      <th>Valor Educativo</th>\n",
       "      <th>Servicio Retorno</th>\n",
       "      <th>Tamano Paquete</th>\n",
       "      <th>Calidad Producto</th>\n",
       "      <th>Numero Estrellas</th>\n",
       "      <th>Grupo</th>\n",
       "    </tr>\n",
       "  </thead>\n",
       "  <tbody>\n",
       "    <tr>\n",
       "      <th>54</th>\n",
       "      <td>Lydia</td>\n",
       "      <td>19</td>\n",
       "      <td>4</td>\n",
       "      <td>435</td>\n",
       "      <td>145</td>\n",
       "      <td>16</td>\n",
       "      <td>21</td>\n",
       "      <td>28</td>\n",
       "      <td>185</td>\n",
       "      <td>24</td>\n",
       "      <td>1</td>\n",
       "    </tr>\n",
       "  </tbody>\n",
       "</table>\n",
       "</div>"
      ],
      "text/plain": [
       "   Nombres  Velocidad Entrega  Precio  Durabilidad  Imagen Producto  \\\n",
       "54   Lydia                 19       4          435              145   \n",
       "\n",
       "    Valor Educativo  Servicio Retorno  Tamano Paquete  Calidad Producto  \\\n",
       "54               16                21              28               185   \n",
       "\n",
       "    Numero Estrellas  Grupo  \n",
       "54                24      1  "
      ]
     },
     "execution_count": 248,
     "metadata": {},
     "output_type": "execute_result"
    }
   ],
   "source": [
    "lydia = df_amazon[df_amazon['Nombres'] == 'Lydia']\n",
    "lydia"
   ]
  },
  {
   "cell_type": "markdown",
   "id": "86bcf502-d45c-45aa-98ba-40e8e2f49a52",
   "metadata": {},
   "source": [
    "### Stephania y Lydia pertenecen al grupo 1"
   ]
  },
  {
   "cell_type": "code",
   "execution_count": 245,
   "id": "1792f034-4552-4d37-92d3-1f7e4ff6a644",
   "metadata": {},
   "outputs": [
    {
     "data": {
      "text/html": [
       "<div>\n",
       "<style scoped>\n",
       "    .dataframe tbody tr th:only-of-type {\n",
       "        vertical-align: middle;\n",
       "    }\n",
       "\n",
       "    .dataframe tbody tr th {\n",
       "        vertical-align: top;\n",
       "    }\n",
       "\n",
       "    .dataframe thead th {\n",
       "        text-align: right;\n",
       "    }\n",
       "</style>\n",
       "<table border=\"1\" class=\"dataframe\">\n",
       "  <thead>\n",
       "    <tr style=\"text-align: right;\">\n",
       "      <th></th>\n",
       "      <th>Nombres</th>\n",
       "      <th>Velocidad Entrega</th>\n",
       "      <th>Precio</th>\n",
       "      <th>Durabilidad</th>\n",
       "      <th>Imagen Producto</th>\n",
       "      <th>Valor Educativo</th>\n",
       "      <th>Servicio Retorno</th>\n",
       "      <th>Tamano Paquete</th>\n",
       "      <th>Calidad Producto</th>\n",
       "      <th>Numero Estrellas</th>\n",
       "      <th>Grupo</th>\n",
       "    </tr>\n",
       "  </thead>\n",
       "  <tbody>\n",
       "    <tr>\n",
       "      <th>8</th>\n",
       "      <td>Xavier</td>\n",
       "      <td>275</td>\n",
       "      <td>8</td>\n",
       "      <td>47</td>\n",
       "      <td>235</td>\n",
       "      <td>35</td>\n",
       "      <td>3</td>\n",
       "      <td>38</td>\n",
       "      <td>27</td>\n",
       "      <td>48</td>\n",
       "      <td>0</td>\n",
       "    </tr>\n",
       "    <tr>\n",
       "      <th>10</th>\n",
       "      <td>Marisol</td>\n",
       "      <td>12</td>\n",
       "      <td>8</td>\n",
       "      <td>44</td>\n",
       "      <td>24</td>\n",
       "      <td>2</td>\n",
       "      <td>28</td>\n",
       "      <td>29</td>\n",
       "      <td>215</td>\n",
       "      <td>17</td>\n",
       "      <td>0</td>\n",
       "    </tr>\n",
       "    <tr>\n",
       "      <th>26</th>\n",
       "      <td>Florent</td>\n",
       "      <td>12</td>\n",
       "      <td>75</td>\n",
       "      <td>33</td>\n",
       "      <td>24</td>\n",
       "      <td>19</td>\n",
       "      <td>25</td>\n",
       "      <td>36</td>\n",
       "      <td>185</td>\n",
       "      <td>21</td>\n",
       "      <td>0</td>\n",
       "    </tr>\n",
       "    <tr>\n",
       "      <th>30</th>\n",
       "      <td>Herman</td>\n",
       "      <td>15</td>\n",
       "      <td>16</td>\n",
       "      <td>3</td>\n",
       "      <td>265</td>\n",
       "      <td>31</td>\n",
       "      <td>3</td>\n",
       "      <td>4</td>\n",
       "      <td>165</td>\n",
       "      <td>28</td>\n",
       "      <td>0</td>\n",
       "    </tr>\n",
       "    <tr>\n",
       "      <th>33</th>\n",
       "      <td>Isadore</td>\n",
       "      <td>17</td>\n",
       "      <td>185</td>\n",
       "      <td>32</td>\n",
       "      <td>285</td>\n",
       "      <td>35</td>\n",
       "      <td>34</td>\n",
       "      <td>42</td>\n",
       "      <td>19</td>\n",
       "      <td>32</td>\n",
       "      <td>0</td>\n",
       "    </tr>\n",
       "  </tbody>\n",
       "</table>\n",
       "</div>"
      ],
      "text/plain": [
       "    Nombres  Velocidad Entrega  Precio  Durabilidad  Imagen Producto  \\\n",
       "8    Xavier                275       8           47              235   \n",
       "10  Marisol                 12       8           44               24   \n",
       "26  Florent                 12      75           33               24   \n",
       "30   Herman                 15      16            3              265   \n",
       "33  Isadore                 17     185           32              285   \n",
       "\n",
       "    Valor Educativo  Servicio Retorno  Tamano Paquete  Calidad Producto  \\\n",
       "8                35                 3              38                27   \n",
       "10                2                28              29               215   \n",
       "26               19                25              36               185   \n",
       "30               31                 3               4               165   \n",
       "33               35                34              42                19   \n",
       "\n",
       "    Numero Estrellas  Grupo  \n",
       "8                 48      0  \n",
       "10                17      0  \n",
       "26                21      0  \n",
       "30                28      0  \n",
       "33                32      0  "
      ]
     },
     "execution_count": 245,
     "metadata": {},
     "output_type": "execute_result"
    }
   ],
   "source": [
    "Grupo0 = df_amazon[df_amazon['Grupo'] == 0]\n",
    "Grupo1 = df_amazon[df_amazon['Grupo'] == 1]\n",
    "Grupo2 = df_amazon[df_amazon['Grupo'] == 2]\n",
    "Grupo0.head()"
   ]
  },
  {
   "cell_type": "code",
   "execution_count": 261,
   "id": "9a625b5d-e8ba-4fa6-b9ab-a471a232fbf3",
   "metadata": {},
   "outputs": [
    {
     "name": "stdout",
     "output_type": "stream",
     "text": [
      "Recomendaria a Salomé la siguiente lista de productos : [39, 24, 255, 3, 23, 285, 215, 2, 305, 29, 27, 23, 235, 185, 23, 28, 225, 25, 35, 275, 235, 31, 265, 26, 155, 225, 245, 305, 225, 41, 295, 355, 39, 25, 24]\n"
     ]
    }
   ],
   "source": [
    "SalomeRecomendacion = Grupo2['Imagen Producto']\n",
    "print(f'Recomendaria a Salomé la siguiente lista de productos : {SalomeRecomendacion.tolist()}')"
   ]
  },
  {
   "cell_type": "code",
   "execution_count": 268,
   "id": "e61c4d1b-3e33-432c-82ff-57d47fa6f6c2",
   "metadata": {},
   "outputs": [
    {
     "name": "stdout",
     "output_type": "stream",
     "text": [
      "Recomendaria a Salomé los mismos productos que compró : Emilia, Fabian, Frank, Gabriel, Henry, Isabelle, Eugenia, Evdokia, Florence, Jeremiah, Joachim, Santiago, Justin, Kalyna, Larissa, Leon, Leonard, Leo, Magdalyna, Marcel, Maria, Maryna, Matthew, Maya, Melania, Michael, Mina, Monica, Myron, Salome, Sebastian, Susanna, Sylvester, Teofan, Teofil\n"
     ]
    }
   ],
   "source": [
    "print(f'Recomendaria a Salomé los mismos productos que compró : {\", \".join(Grupo2['Nombres'].tolist())}')"
   ]
  },
  {
   "cell_type": "code",
   "execution_count": 253,
   "id": "76dc5b8c-f22f-48d4-b5de-6453b98d26b8",
   "metadata": {},
   "outputs": [
    {
     "name": "stdout",
     "output_type": "stream",
     "text": [
      "Recomendaria a Lydia y a Stephania la siguiente lista de productos : [235, 33, 3, 295, 33, 19, 335, 235, 255, 305, 335, 125, 355, 24, 24, 29, 175, 275, 345, 295, 17, 225, 27, 225, 295, 245, 145, 225, 275, 245, 185, 31, 24, 165, 23, 19, 32, 3, 305, 315, 225, 34]\n"
     ]
    }
   ],
   "source": [
    "StephaniaRecomendacion = Grupo1['Imagen Producto']\n",
    "print(f'Recomendaria a Lydia y a Stephania la siguiente lista de productos : {StephaniaRecomendacion.tolist()}')"
   ]
  },
  {
   "cell_type": "code",
   "execution_count": 269,
   "id": "dee41131-c9f8-4a3f-a578-fac53ee3ab34",
   "metadata": {},
   "outputs": [
    {
     "name": "stdout",
     "output_type": "stream",
     "text": [
      "Recomendaria a Lydia y a Stephania los mismos productos que compró : Adam, Anna, Bernard, Edward, Philip, Irene, Isidore, Joseph, Eugene, Eunice, Eva, Fedir, Felix, Fialka, Flavia, Flora, Hannah, Helen, Hilary, Lourdes, Ivan, Jacob, Jervis, Judith, Louise, Lubomyr, Lydia, Marian, Markian, Marko, Maura, Maximillian, Methodius, Mykyta, Myroslav, Myroslava, Samuel, Sarah, Stephan, Stephania, Theodore, Teon\n"
     ]
    }
   ],
   "source": [
    "print(f'Recomendaria a Lydia y a Stephania los mismos productos que compró : {\", \".join(Grupo1['Nombres'].tolist())}')"
   ]
  },
  {
   "cell_type": "code",
   "execution_count": null,
   "id": "f7354300-fb15-47be-bb3f-f5ce5477e54a",
   "metadata": {},
   "outputs": [],
   "source": []
  }
 ],
 "metadata": {
  "kernelspec": {
   "display_name": "Python 3 (ipykernel)",
   "language": "python",
   "name": "python3"
  },
  "language_info": {
   "codemirror_mode": {
    "name": "ipython",
    "version": 3
   },
   "file_extension": ".py",
   "mimetype": "text/x-python",
   "name": "python",
   "nbconvert_exporter": "python",
   "pygments_lexer": "ipython3",
   "version": "3.12.3"
  }
 },
 "nbformat": 4,
 "nbformat_minor": 5
}

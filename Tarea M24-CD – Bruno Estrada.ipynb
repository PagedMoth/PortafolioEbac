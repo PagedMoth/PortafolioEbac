{
 "cells": [
  {
   "cell_type": "code",
   "execution_count": 1,
   "id": "6146b677-1705-4d5a-a219-310afc3a9c6f",
   "metadata": {},
   "outputs": [],
   "source": [
    "import pandas as pd\n",
    "import numpy as np\n",
    "from sklearn.ensemble import RandomForestClassifier, GradientBoostingClassifier, AdaBoostClassifier\n",
    "from sklearn.model_selection import train_test_split, GridSearchCV\n",
    "from sklearn.metrics import classification_report, confusion_matrix, mean_squared_error, r2_score\n",
    "from sklearn import preprocessing\n",
    "import matplotlib.pyplot as plt\n",
    "\n",
    "import warnings\n",
    "warnings.filterwarnings(\"ignore\")"
   ]
  },
  {
   "cell_type": "code",
   "execution_count": 2,
   "id": "9f5e0b43-6980-411f-b552-9b2ea33bd7be",
   "metadata": {},
   "outputs": [
    {
     "data": {
      "text/html": [
       "<div>\n",
       "<style scoped>\n",
       "    .dataframe tbody tr th:only-of-type {\n",
       "        vertical-align: middle;\n",
       "    }\n",
       "\n",
       "    .dataframe tbody tr th {\n",
       "        vertical-align: top;\n",
       "    }\n",
       "\n",
       "    .dataframe thead th {\n",
       "        text-align: right;\n",
       "    }\n",
       "</style>\n",
       "<table border=\"1\" class=\"dataframe\">\n",
       "  <thead>\n",
       "    <tr style=\"text-align: right;\">\n",
       "      <th></th>\n",
       "      <th>Age</th>\n",
       "      <th>Sex</th>\n",
       "      <th>BP</th>\n",
       "      <th>Cholesterol</th>\n",
       "      <th>Na_to_K</th>\n",
       "      <th>Drug</th>\n",
       "    </tr>\n",
       "  </thead>\n",
       "  <tbody>\n",
       "    <tr>\n",
       "      <th>0</th>\n",
       "      <td>23</td>\n",
       "      <td>F</td>\n",
       "      <td>HIGH</td>\n",
       "      <td>HIGH</td>\n",
       "      <td>25.355</td>\n",
       "      <td>drugY</td>\n",
       "    </tr>\n",
       "    <tr>\n",
       "      <th>1</th>\n",
       "      <td>47</td>\n",
       "      <td>M</td>\n",
       "      <td>LOW</td>\n",
       "      <td>HIGH</td>\n",
       "      <td>13.093</td>\n",
       "      <td>drugC</td>\n",
       "    </tr>\n",
       "    <tr>\n",
       "      <th>2</th>\n",
       "      <td>47</td>\n",
       "      <td>M</td>\n",
       "      <td>LOW</td>\n",
       "      <td>HIGH</td>\n",
       "      <td>10.114</td>\n",
       "      <td>drugC</td>\n",
       "    </tr>\n",
       "    <tr>\n",
       "      <th>3</th>\n",
       "      <td>28</td>\n",
       "      <td>F</td>\n",
       "      <td>NORMAL</td>\n",
       "      <td>HIGH</td>\n",
       "      <td>7.798</td>\n",
       "      <td>drugX</td>\n",
       "    </tr>\n",
       "    <tr>\n",
       "      <th>4</th>\n",
       "      <td>61</td>\n",
       "      <td>F</td>\n",
       "      <td>LOW</td>\n",
       "      <td>HIGH</td>\n",
       "      <td>18.043</td>\n",
       "      <td>drugY</td>\n",
       "    </tr>\n",
       "  </tbody>\n",
       "</table>\n",
       "</div>"
      ],
      "text/plain": [
       "   Age Sex      BP Cholesterol  Na_to_K   Drug\n",
       "0   23   F    HIGH        HIGH   25.355  drugY\n",
       "1   47   M     LOW        HIGH   13.093  drugC\n",
       "2   47   M     LOW        HIGH   10.114  drugC\n",
       "3   28   F  NORMAL        HIGH    7.798  drugX\n",
       "4   61   F     LOW        HIGH   18.043  drugY"
      ]
     },
     "execution_count": 2,
     "metadata": {},
     "output_type": "execute_result"
    }
   ],
   "source": [
    "df_drugs = pd.read_csv(\"drugs.csv\")\n",
    "df_drugs.head()"
   ]
  },
  {
   "cell_type": "code",
   "execution_count": 3,
   "id": "5be29ed9-c311-4ac0-a1d6-d55191c77a3b",
   "metadata": {},
   "outputs": [
    {
     "data": {
      "text/plain": [
       "Age            0\n",
       "Sex            0\n",
       "BP             0\n",
       "Cholesterol    0\n",
       "Na_to_K        0\n",
       "Drug           0\n",
       "dtype: int64"
      ]
     },
     "execution_count": 3,
     "metadata": {},
     "output_type": "execute_result"
    }
   ],
   "source": [
    "df_drugs.isnull().sum()"
   ]
  },
  {
   "cell_type": "code",
   "execution_count": 4,
   "id": "246a8c48-a754-40c9-9dc6-cbfe09d5c4ac",
   "metadata": {},
   "outputs": [],
   "source": [
    "# Objeto LabelEncoder y diccionario con las caracteristicas para la documentacion.\n",
    "le = preprocessing.LabelEncoder()\n",
    "Scaler = preprocessing.StandardScaler()\n",
    "\n",
    "mapeoCaracteristicas= {}\n",
    "mapeoCaracteristicaDrug={}"
   ]
  },
  {
   "cell_type": "code",
   "execution_count": 5,
   "id": "668a0803-0860-4ee0-821a-d6a99339debc",
   "metadata": {},
   "outputs": [
    {
     "data": {
      "text/plain": [
       "{'BP': {'HIGH': 0, 'LOW': 1, 'NORMAL': 2},\n",
       " 'Sex': {'F': 0, 'M': 1},\n",
       " 'Cholesterol': {'HIGH': 0, 'NORMAL': 1}}"
      ]
     },
     "execution_count": 5,
     "metadata": {},
     "output_type": "execute_result"
    }
   ],
   "source": [
    "# Etiquetar las columnas y guardar los mapeos\n",
    "for columna in ['BP', 'Sex', 'Cholesterol']:\n",
    "    #Se utiliza label encoder para cambiar strings por valores numericos\n",
    "    df_drugs[columna] = le.fit_transform(df_drugs[columna])\n",
    "    mapeoCaracteristicas[columna] = dict(zip(le.classes_, le.transform(le.classes_)))\n",
    "\n",
    "mapeoCaracteristicas"
   ]
  },
  {
   "cell_type": "code",
   "execution_count": 6,
   "id": "95f3189f-4789-48ac-b036-176dd2a50ee9",
   "metadata": {},
   "outputs": [],
   "source": [
    "#Creacion de variables para el entrenamiento y test.\n",
    "x_ind=df_drugs.drop(\"Drug\", axis=1)\n",
    "y_dep=pd.DataFrame(df_drugs[\"Drug\"])"
   ]
  },
  {
   "cell_type": "code",
   "execution_count": 7,
   "id": "e93501a2-a5cd-4f1d-9509-4ae6581ed498",
   "metadata": {},
   "outputs": [
    {
     "data": {
      "text/plain": [
       "array(['drugY', 'drugC', 'drugC', 'drugX', 'drugY'], dtype=object)"
      ]
     },
     "execution_count": 7,
     "metadata": {},
     "output_type": "execute_result"
    }
   ],
   "source": [
    "y_dep_array = y_dep.values.ravel()\n",
    "y_dep_array[:5]"
   ]
  },
  {
   "cell_type": "code",
   "execution_count": 8,
   "id": "b1d0996e-2a4a-453c-9c34-6ece66fdbff9",
   "metadata": {},
   "outputs": [
    {
     "data": {
      "text/plain": [
       "{'drugA': 0, 'drugB': 1, 'drugC': 2, 'drugX': 3, 'drugY': 4}"
      ]
     },
     "execution_count": 8,
     "metadata": {},
     "output_type": "execute_result"
    }
   ],
   "source": [
    "#Transformamos etiquetas en valor numerico del medicamento\n",
    "y_dep_cod= pd.DataFrame(le.fit_transform(y_dep_array), columns=[\"Drug\"])\n",
    "\n",
    "#Guarda caracteristica en formato diccionario juntato clave-valor con zip\n",
    "mapeoCaracteristicaDrug = dict(zip(le.classes_, le.transform(le.classes_)))\n",
    "mapeoCaracteristicaDrug"
   ]
  },
  {
   "cell_type": "code",
   "execution_count": 9,
   "id": "fb0f33cc-5a7b-4764-809b-86949751953d",
   "metadata": {},
   "outputs": [
    {
     "data": {
      "text/html": [
       "<div>\n",
       "<style scoped>\n",
       "    .dataframe tbody tr th:only-of-type {\n",
       "        vertical-align: middle;\n",
       "    }\n",
       "\n",
       "    .dataframe tbody tr th {\n",
       "        vertical-align: top;\n",
       "    }\n",
       "\n",
       "    .dataframe thead th {\n",
       "        text-align: right;\n",
       "    }\n",
       "</style>\n",
       "<table border=\"1\" class=\"dataframe\">\n",
       "  <thead>\n",
       "    <tr style=\"text-align: right;\">\n",
       "      <th></th>\n",
       "      <th>Age</th>\n",
       "      <th>Sex</th>\n",
       "      <th>BP</th>\n",
       "      <th>Cholesterol</th>\n",
       "      <th>Na_to_K</th>\n",
       "    </tr>\n",
       "  </thead>\n",
       "  <tbody>\n",
       "    <tr>\n",
       "      <th>0</th>\n",
       "      <td>23</td>\n",
       "      <td>0</td>\n",
       "      <td>0</td>\n",
       "      <td>0</td>\n",
       "      <td>25.355</td>\n",
       "    </tr>\n",
       "    <tr>\n",
       "      <th>1</th>\n",
       "      <td>47</td>\n",
       "      <td>1</td>\n",
       "      <td>1</td>\n",
       "      <td>0</td>\n",
       "      <td>13.093</td>\n",
       "    </tr>\n",
       "    <tr>\n",
       "      <th>2</th>\n",
       "      <td>47</td>\n",
       "      <td>1</td>\n",
       "      <td>1</td>\n",
       "      <td>0</td>\n",
       "      <td>10.114</td>\n",
       "    </tr>\n",
       "    <tr>\n",
       "      <th>3</th>\n",
       "      <td>28</td>\n",
       "      <td>0</td>\n",
       "      <td>2</td>\n",
       "      <td>0</td>\n",
       "      <td>7.798</td>\n",
       "    </tr>\n",
       "    <tr>\n",
       "      <th>4</th>\n",
       "      <td>61</td>\n",
       "      <td>0</td>\n",
       "      <td>1</td>\n",
       "      <td>0</td>\n",
       "      <td>18.043</td>\n",
       "    </tr>\n",
       "  </tbody>\n",
       "</table>\n",
       "</div>"
      ],
      "text/plain": [
       "   Age  Sex  BP  Cholesterol  Na_to_K\n",
       "0   23    0   0            0   25.355\n",
       "1   47    1   1            0   13.093\n",
       "2   47    1   1            0   10.114\n",
       "3   28    0   2            0    7.798\n",
       "4   61    0   1            0   18.043"
      ]
     },
     "execution_count": 9,
     "metadata": {},
     "output_type": "execute_result"
    }
   ],
   "source": [
    "x_ind[0:5]"
   ]
  },
  {
   "cell_type": "code",
   "execution_count": 10,
   "id": "0b5c80de-cf36-499a-9a82-71aec52302f3",
   "metadata": {},
   "outputs": [
    {
     "data": {
      "text/html": [
       "<div>\n",
       "<style scoped>\n",
       "    .dataframe tbody tr th:only-of-type {\n",
       "        vertical-align: middle;\n",
       "    }\n",
       "\n",
       "    .dataframe tbody tr th {\n",
       "        vertical-align: top;\n",
       "    }\n",
       "\n",
       "    .dataframe thead th {\n",
       "        text-align: right;\n",
       "    }\n",
       "</style>\n",
       "<table border=\"1\" class=\"dataframe\">\n",
       "  <thead>\n",
       "    <tr style=\"text-align: right;\">\n",
       "      <th></th>\n",
       "      <th>Drug</th>\n",
       "    </tr>\n",
       "  </thead>\n",
       "  <tbody>\n",
       "    <tr>\n",
       "      <th>0</th>\n",
       "      <td>4</td>\n",
       "    </tr>\n",
       "    <tr>\n",
       "      <th>1</th>\n",
       "      <td>2</td>\n",
       "    </tr>\n",
       "    <tr>\n",
       "      <th>2</th>\n",
       "      <td>2</td>\n",
       "    </tr>\n",
       "    <tr>\n",
       "      <th>3</th>\n",
       "      <td>3</td>\n",
       "    </tr>\n",
       "    <tr>\n",
       "      <th>4</th>\n",
       "      <td>4</td>\n",
       "    </tr>\n",
       "  </tbody>\n",
       "</table>\n",
       "</div>"
      ],
      "text/plain": [
       "   Drug\n",
       "0     4\n",
       "1     2\n",
       "2     2\n",
       "3     3\n",
       "4     4"
      ]
     },
     "execution_count": 10,
     "metadata": {},
     "output_type": "execute_result"
    }
   ],
   "source": [
    "y_dep_cod.head()"
   ]
  },
  {
   "cell_type": "code",
   "execution_count": 11,
   "id": "ed6968da-36af-4ef2-8a77-11a47d3dac20",
   "metadata": {},
   "outputs": [],
   "source": [
    "x_train, x_test, y_train, y_test = train_test_split(x_ind, y_dep_cod, test_size=0.3, random_state=3)"
   ]
  },
  {
   "cell_type": "code",
   "execution_count": 12,
   "id": "ee8ce1f1-ebba-4b26-ac4f-72654c0336fc",
   "metadata": {},
   "outputs": [],
   "source": [
    "RandomF = RandomForestClassifier()\n",
    "GradientB = GradientBoostingClassifier()\n",
    "AdaB = AdaBoostClassifier()"
   ]
  },
  {
   "cell_type": "code",
   "execution_count": 13,
   "id": "76149aa7-b909-47fc-83e8-ebd6add60366",
   "metadata": {},
   "outputs": [],
   "source": [
    "models = [\n",
    "    {\n",
    "        'name': 'Random Forest',\n",
    "        'estimator': RandomF,\n",
    "        'param_grid': {\n",
    "            'n_estimators': [100, 200, 300],\n",
    "            'max_depth': [None, 10, 20],\n",
    "            'min_samples_split': [2, 5, 10],\n",
    "            'min_samples_leaf': [1, 2, 4]\n",
    "        }\n",
    "    },\n",
    "    {\n",
    "        'name': 'AdaBoost',\n",
    "        'estimator': AdaB,\n",
    "        'param_grid': {\n",
    "            'n_estimators': [50, 100, 200],\n",
    "            'learning_rate': [0.01, 0.1, 1],\n",
    "            'algorithm': ['SAMME', 'SAMME.R']\n",
    "        }\n",
    "    },\n",
    "    {\n",
    "        'name': 'Gradient Boosting',\n",
    "        'estimator': GradientB,\n",
    "        'param_grid': {\n",
    "            'n_estimators': [100, 200, 300],\n",
    "            'learning_rate': [0.01, 0.1, 0.2],\n",
    "            'max_depth': [3, 5, 7],\n",
    "            'min_samples_split': [2, 5, 10],\n",
    "            'min_samples_leaf': [1, 2, 4]\n",
    "        }\n",
    "    }\n",
    "]"
   ]
  },
  {
   "cell_type": "code",
   "execution_count": 14,
   "id": "d64d24b8-f64b-4185-9555-61f74efdea35",
   "metadata": {},
   "outputs": [
    {
     "name": "stdout",
     "output_type": "stream",
     "text": [
      "Buscando hiperparámetros óptimos para Random Forest...\n",
      "Fitting 5 folds for each of 81 candidates, totalling 405 fits\n",
      "Buscando hiperparámetros óptimos para AdaBoost...\n",
      "Fitting 5 folds for each of 18 candidates, totalling 90 fits\n",
      "Buscando hiperparámetros óptimos para Gradient Boosting...\n",
      "Fitting 5 folds for each of 243 candidates, totalling 1215 fits\n",
      "\n",
      "Modelo: Random Forest\n",
      "Mejores hiperparámetros: {'max_depth': None, 'min_samples_leaf': 1, 'min_samples_split': 2, 'n_estimators': 100}\n",
      "Mejor puntaje de exactitud: 0.9928571428571429\n",
      "\n",
      "Modelo: AdaBoost\n",
      "Mejores hiperparámetros: {'algorithm': 'SAMME', 'learning_rate': 0.1, 'n_estimators': 50}\n",
      "Mejor puntaje de exactitud: 0.8428571428571427\n",
      "\n",
      "Modelo: Gradient Boosting\n",
      "Mejores hiperparámetros: {'learning_rate': 0.01, 'max_depth': 3, 'min_samples_leaf': 1, 'min_samples_split': 2, 'n_estimators': 300}\n",
      "Mejor puntaje de exactitud: 0.9928571428571429\n"
     ]
    }
   ],
   "source": [
    "# Almacenar los mejores resultados\n",
    "best_results = []\n",
    "\n",
    "# Iterar a través de los modelos\n",
    "for model in models:\n",
    "    print(f\"Buscando hiperparámetros óptimos para {model['name']}...\")\n",
    "    \n",
    "    # Crear el objeto GridSearchCV\n",
    "    grid_search = GridSearchCV(estimator=model['estimator'], param_grid=model['param_grid'], cv=5, scoring='accuracy', refit=True, n_jobs=-1, verbose=3, return_train_score=True)\n",
    "    \n",
    "    # Ajustar el modelo\n",
    "    grid_search.fit(x_train, y_train)\n",
    "    \n",
    "    # Almacenar los mejores hiperparámetros y resultados para cada métrica\n",
    "    best_results.append({\n",
    "        'model': model['name'],\n",
    "        'best_params': grid_search.best_params_,\n",
    "        'best_accuracy': grid_search.best_score_\n",
    "\n",
    "    })\n",
    "\n",
    "# Mostrar los mejores resultados para cada modelo\n",
    "for result in best_results:\n",
    "    print(f\"\\nModelo: {result['model']}\")\n",
    "    print(f\"Mejores hiperparámetros: {result['best_params']}\")\n",
    "    print(f\"Mejor puntaje de exactitud: {result['best_accuracy']}\")"
   ]
  },
  {
   "cell_type": "markdown",
   "id": "ba40bba6-3050-447a-8e9c-a8299914e318",
   "metadata": {},
   "source": [
    "AdaModelo= [\n",
    "    {\n",
    "        'name': 'AdaBoost',\n",
    "        'estimator': AdaB,\n",
    "        'param_grid': {\n",
    "                'n_estimators': list(range(1, 200)),\n",
    "                'learning_rate': [0.001, 0.01, 0.1, 1],\n",
    "                'algorithm': ['SAMME', 'SAMME.R']\n",
    "                }\n",
    "    }\n",
    "]"
   ]
  },
  {
   "cell_type": "markdown",
   "id": "bd943e47-7ce9-4d25-9528-c8a2080844bd",
   "metadata": {},
   "source": [
    "\n",
    "    Asegúrate de acceder al diccionario correcto en la lista AdaModelo\n",
    "    for model in AdaModelo:\n",
    "        print(f\"Buscando hiperparámetros óptimos para {model['name']}...\")\n",
    "        \n",
    "        # Crear el objeto GridSearchCV\n",
    "        grid_search2 = GridSearchCV(estimator=model['estimator'], param_grid=model['param_grid'], cv=5, scoring='accuracy', refit='accuracy', n_jobs=-1, verbose=3, return_train_score=True)\n",
    "        \n",
    "        # Ajustar el modelo\n",
    "        grid_search2.fit(x_train, y_train)\n",
    "        \n",
    "        # Obtener los mejores parámetros\n",
    "        best_params = grid_search2.best_params_\n",
    "        print(\"Mejores Hiperparámetros:\", best_params)\n",
    "        \n",
    "        # Obtener el mejor puntaje\n",
    "        best_score = grid_search2.best_score_\n",
    "        print(\"Mejor Puntuación:\", best_score)"
   ]
  },
  {
   "cell_type": "markdown",
   "id": "a629f98a-1078-4908-bda9-166f100c81fc",
   "metadata": {},
   "source": [
    "##    Buscando hiperparámetros óptimos para AdaBoost...\n",
    "    \n",
    "    Fitting 5 folds for each of 1592 candidates, totalling 7960 fits\n",
    "    \n",
    "    Mejores Hiperparámetros: {'algorithm': 'SAMME', 'learning_rate': 0.1, 'n_estimators': 39}\n",
    "    \n",
    "    Mejor Puntuación: 0.8428571428571427\n",
    "    \n",
    "    A pesar de buscar exahustivamente mejores parametros para adaboost que fue el mejor modelo en la clase anterior no encontro un mejor valor a pesar de extender un learning rate mas pequeño y con más estimadores (árboles de decision)."
   ]
  },
  {
   "cell_type": "markdown",
   "id": "0789fa6f-96ba-4033-b075-3bd76cf00a26",
   "metadata": {},
   "source": [
    "### Comparando los valores que nos dieron los 3 modelos, 2 de ellos tuvieron el mismo puntaje de precisión =  0.9928571428571429 (Random Forest y Gradient Boosting), entonces al utilizar cualquiera de los dos puede ser un opción. Aunque podemmos usar los dos y comparar los resultados en base al conjunto de prueba."
   ]
  },
  {
   "cell_type": "code",
   "execution_count": 15,
   "id": "06faa617-806c-4187-9a0b-8b9711bf01d7",
   "metadata": {},
   "outputs": [],
   "source": [
    "import seaborn as sns"
   ]
  },
  {
   "cell_type": "code",
   "execution_count": 16,
   "id": "fdbcb448-6597-478e-8c40-2c6b1dacf573",
   "metadata": {},
   "outputs": [
    {
     "name": "stdout",
     "output_type": "stream",
     "text": [
      "\n",
      "Puntaje Random Forest: \n",
      "\n",
      "               precision    recall  f1-score   support\n",
      "\n",
      "           0       1.00      1.00      1.00         7\n",
      "           1       1.00      1.00      1.00         5\n",
      "           2       1.00      1.00      1.00         5\n",
      "           3       1.00      0.95      0.98        21\n",
      "           4       0.96      1.00      0.98        22\n",
      "\n",
      "    accuracy                           0.98        60\n",
      "   macro avg       0.99      0.99      0.99        60\n",
      "weighted avg       0.98      0.98      0.98        60\n",
      "\n",
      "Puntaje Gradient Boosting: \n",
      "\n",
      "               precision    recall  f1-score   support\n",
      "\n",
      "           0       1.00      0.86      0.92         7\n",
      "           1       1.00      1.00      1.00         5\n",
      "           2       1.00      1.00      1.00         5\n",
      "           3       1.00      0.95      0.98        21\n",
      "           4       0.92      1.00      0.96        22\n",
      "\n",
      "    accuracy                           0.97        60\n",
      "   macro avg       0.98      0.96      0.97        60\n",
      "weighted avg       0.97      0.97      0.97        60\n",
      " \n",
      "\n"
     ]
    },
    {
     "data": {
      "text/plain": [
       "<function matplotlib.pyplot.show(close=None, block=None)>"
      ]
     },
     "execution_count": 16,
     "metadata": {},
     "output_type": "execute_result"
    },
    {
     "data": {
      "image/png": "[encoded data removed]",
      "text/plain": [
       "<Figure size 800x600 with 2 Axes>"
      ]
     },
     "metadata": {},
     "output_type": "display_data"
    },
    {
     "data": {
      "image/png": "[encoded data removed]",
      "text/plain": [
       "<Figure size 800x600 with 2 Axes>"
      ]
     },
     "metadata": {},
     "output_type": "display_data"
    }
   ],
   "source": [
    "RandomForest_tuned=RandomForestClassifier(max_depth= None, min_samples_leaf= 2, min_samples_split= 2, n_estimators= 100)\n",
    "RandomForest_tuned.fit(x_train, y_train)\n",
    "\n",
    "GradientBoosting_tuned=GradientBoostingClassifier(learning_rate=0.01, max_depth= 3, min_samples_leaf= 2, min_samples_split= 2, n_estimators= 300)\n",
    "GradientBoosting_tuned.fit(x_train, y_train)\n",
    "\n",
    "y_predRF= RandomForest_tuned.predict(x_test)\n",
    "y_predGB = GradientBoosting_tuned.predict(x_test)\n",
    "\n",
    "\n",
    "print(\"\\nPuntaje Random Forest: \\n\\n\", classification_report(y_test, y_predRF))\n",
    "cm_RF=confusion_matrix(y_test, y_predRF)\n",
    "\n",
    "plt.figure(figsize=(8, 6))\n",
    "titulo = \"Matrix de confusion Random Forest\"\n",
    "sns.heatmap(cm_RF, annot=True, fmt='d', cmap='cividis', cbar=True)\n",
    "plt.title(titulo)  # Agregar el título\n",
    "plt.show\n",
    "\n",
    "print(\"Puntaje Gradient Boosting: \\n\\n\", classification_report(y_test, y_predGB),\"\\n\")\n",
    "cm_GB=confusion_matrix(y_test, y_predGB)\n",
    "\n",
    "plt.figure(figsize=(8, 6))\n",
    "titulo = \"Matrix de confusion Gradient Boosting\"\n",
    "sns.heatmap(cm_GB, annot=True, fmt='d', cmap='cividis', cbar=True)\n",
    "plt.title(titulo)  # Agregar el título\n",
    "plt.show"
   ]
  },
  {
   "cell_type": "markdown",
   "id": "8ff4cda1-b966-4929-b46b-fb122342f092",
   "metadata": {},
   "source": [
    "### Se puede observar con los resultados que a pesar de que tuvieron una percision exacta igual en los parametros de entrenamiento al hacer pruebas con el conjunto de datos de prueba se obtiene que el random forest fue más preciso por predecir un valor correcto más que el gradient boosting con una precisión de .98 y gradient boosting con .97"
   ]
  },
  {
   "cell_type": "markdown",
   "id": "7e6b25cd-bf16-4904-8307-7f27a2b87ba4",
   "metadata": {},
   "source": [
    " # Caso de prueba"
   ]
  },
  {
   "cell_type": "code",
   "execution_count": null,
   "id": "63c19940-45ff-4d29-ba30-36d6e186634b",
   "metadata": {},
   "outputs": [],
   "source": [
    "edad = 50\n",
    "sexo = mapeoCaracteristicas['Sex']['F']\n",
    "presion = mapeoCaracteristicas['BP']['HIGH']\n",
    "colesterol = mapeoCaracteristicas['Cholesterol']['NORMAL']\n",
    "Na_to_K = 15.302\n",
    "\n",
    "valores_mapeados = pd.DataFrame([[edad, sexo, presion, colesterol, Na_to_K]], columns=x_train.columns)"
   ]
  },
  {
   "cell_type": "code",
   "execution_count": null,
   "id": "0eff34fd-fbd5-444f-b4ca-742d5e7d8651",
   "metadata": {},
   "outputs": [],
   "source": [
    "valores_mapeados"
   ]
  },
  {
   "cell_type": "code",
   "execution_count": null,
   "id": "12c1db55-26f0-4991-8b08-c71f530a6d96",
   "metadata": {},
   "outputs": [],
   "source": [
    "inv_mapeoCaracteristicas = {k: {v: key for key, v in value.items()} for k, value in mapeoCaracteristicas.items()}\n",
    "inv_mapeoCaracteristicaDrug = {v: k for k, v in mapeoCaracteristicaDrug.items()}\n"
   ]
  },
  {
   "cell_type": "raw",
   "id": "19799136-13a8-406b-af08-be9d00a6ed86",
   "metadata": {},
   "source": [
    "mapeoCaracteristicas = \n",
    "\n",
    "{ \n",
    "    'BP': {'HIGH': 0, 'LOW': 1, 'NORMAL': 2},\n",
    "    'Sex': {'F': 0, 'M': 1},\n",
    "    'Cholesterol': {'HIGH': 0, 'NORMAL': 1}\n",
    "}\n",
    "\n",
    "\n",
    "\n",
    "\n",
    "inv_mapeoCaracteristicas =\n",
    "\n",
    "{\n",
    "    'BP': {0: 'HIGH', 1: 'LOW', 2: 'NORMAL'},\n",
    "    'Sex': {0: 'F', 1: 'M'},\n",
    "    'Cholesterol': {0: 'HIGH', 1: 'NORMAL'}\n",
    "}\n",
    "\n",
    "\n",
    "mapeoCaracteristicaDrug=\n",
    "\n",
    "{'drugA': 0, 'drugB': 1, 'drugC': 2, 'drugX': 3, 'drugY': 4}\n",
    "\n",
    "\n",
    "\n",
    "\n",
    "inv_mapeoCaracteristicaDrug =\n",
    "\n",
    "{0: 'drugA', 1: 'drugB', 2: 'drugC', 3: 'drugX', 4: 'drugY'}"
   ]
  },
  {
   "cell_type": "code",
   "execution_count": null,
   "id": "f282cd1a-6231-4a16-8623-64afe50aad81",
   "metadata": {},
   "outputs": [],
   "source": [
    "y_pred_prueba=RandomForest_tuned.predict(valores_mapeados)\n",
    "y_pred_prueba = y_pred_prueba[0]\n",
    "resultado = inv_mapeoCaracteristicaDrug[y_pred_prueba]\n",
    "resultado"
   ]
  }
 ],
 "metadata": {
  "kernelspec": {
   "display_name": "Python 3 (ipykernel)",
   "language": "python",
   "name": "python3"
  },
  "language_info": {
   "codemirror_mode": {
    "name": "ipython",
    "version": 3
   },
   "file_extension": ".py",
   "mimetype": "text/x-python",
   "name": "python",
   "nbconvert_exporter": "python",
   "pygments_lexer": "ipython3",
   "version": "3.12.3"
  }
 },
 "nbformat": 4,
 "nbformat_minor": 5
}
